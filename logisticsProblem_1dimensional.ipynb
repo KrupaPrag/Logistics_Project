{
 "cells": [
  {
   "cell_type": "markdown",
   "metadata": {},
   "source": [
    "# LOGISTICS PROBLEM IMPLEMENTATION USING METAHEURASTICS\n",
    "TWO MAIN COMPONENTS AND THEIR ATTRIBUTES: \n",
    "1. ITEMS \n",
    "    1. item\n",
    "    2. size \n",
    "    3. delivery_loc\n",
    "    4. delivery_time (deadline: 1st or 2nd round)\n",
    "    5. delivery_dispatch (which round it is actually dispatched)\n",
    "    6. delivery_number (on that route)\n",
    "    7. bin\n",
    "\n",
    "2. VEHICLES\n",
    "    1. bin\n",
    "    2. size \n",
    "    3. available_space\n",
    "    4. delivery_time_dispatch (in which round will the vehicle be dispatched)\n",
    "    5. route_dist\n",
    "    6. bin_penalty\n",
    "    7. route_cost\n",
    "    8. distance_per_item\n",
    "\n",
    "PROBLEM METHODOLOGY:\n",
    "Items have to be delivered in the desired delivery time (either round 1 or round 2). If item cannot be packed and delivered on time, it is added (with penalty) to the next days list for the same delivery time. The items are grouped by bin. A route is generated for each bin. The corresponding delivery number on the item on the route is noted. The cost of the delivery, and distance per item is calculated.The route order that is generated is mapped to the delivery number of the item. \n",
    " A fitness test is then applied to rank the outcomes, from which we select a solution.  \n",
    "The combination of items placed in a bin are checked to ensure that the bins are not overfilled (constraint). \n",
    "Note: number of bins are fixed\n",
    "\n",
    "\n",
    "IMPLEMENTATION STEPS:\n",
    "1. Group the items which have to be delivered in the first and second round\n",
    "2. Bin packing\n",
    "3. Group items by bin\n",
    "4. Generate a route for the items in the bin according to their delivery_loc\n",
    "5. Set the order of where the state occurs in the route to the item\n",
    "6. Calculate cost"
   ]
  },
  {
   "cell_type": "code",
   "execution_count": 1,
   "metadata": {},
   "outputs": [
    {
     "data": {
      "text/html": [
       "<style>\n",
       ".output {\n",
       "    flex-direction: row;\n",
       "}\n",
       "</style>"
      ],
      "text/plain": [
       "<IPython.core.display.HTML object>"
      ]
     },
     "execution_count": 1,
     "metadata": {},
     "output_type": "execute_result"
    }
   ],
   "source": [
    "import os\n",
    "import numpy as np\n",
    "import pandas as pd\n",
    "import matplotlib.pyplot as plt\n",
    "import math as math \n",
    "from math import floor\n",
    "from random import randint\n",
    "import csv as csv\n",
    "#to shuffle dataframe\n",
    "from sklearn.utils import shuffle \n",
    "from IPython.display import display, HTML\n",
    "import scipy \n",
    "from scipy.misc import comb # comb(n,k, exact=True)\n",
    "from math import inf\n",
    "from math import exp, expm1\n",
    "import decimal\n",
    "import random\n",
    "# from scipy import special\n",
    "# from scipy.special import comb\n",
    "CSS = \"\"\"\n",
    ".output {\n",
    "    flex-direction: row;\n",
    "}\n",
    "\"\"\"\n",
    "\n",
    "HTML('<style>{}</style>'.format(CSS))"
   ]
  },
  {
   "cell_type": "markdown",
   "metadata": {},
   "source": [
    "### Read-in and check data"
   ]
  },
  {
   "cell_type": "code",
   "execution_count": 2,
   "metadata": {
    "collapsed": true
   },
   "outputs": [],
   "source": [
    "def read_data(fileName):\n",
    "    df = pd.read_csv(fileName)\n",
    "    return df\n",
    "    \n",
    "def check_packaging(df):\n",
    "    rows, cols = df.shape #size of the data set\n",
    "    return (rows, cols)\n",
    "\n",
    "def data_check(df, n=3):#n number of items to check \n",
    "    df_top_n = df.head(n)\n",
    "    return (df_top_n)\n",
    "\n",
    "def check_ns(df):\n",
    "    ns = df.describe()\n",
    "    return ns"
   ]
  },
  {
   "cell_type": "code",
   "execution_count": 3,
   "metadata": {
    "collapsed": true
   },
   "outputs": [],
   "source": [
    "###FILE NAMES\n",
    "#ITEMS: \n",
    "items = 'items'\n",
    "bins = 'bins'\n",
    "items_2D = 'items2D'\n",
    "bins_2D = 'bins2D'\n",
    "city_dist = 'city'\n",
    "dist_mat = 'distance_matrix'"
   ]
  },
  {
   "cell_type": "markdown",
   "metadata": {},
   "source": [
    "#### 1D Item data"
   ]
  },
  {
   "cell_type": "code",
   "execution_count": 4,
   "metadata": {},
   "outputs": [
    {
     "name": "stdout",
     "output_type": "stream",
     "text": [
      "rows(5) x cols(7) \n",
      "\n",
      "   item  size  bin  delivery_loc  delivery_time  delivery_dispatch  \\\n",
      "0     0     4  NaN             4              2                NaN   \n",
      "1     1     3  NaN             2              1                NaN   \n",
      "2     2     6  NaN             1              2                NaN   \n",
      "\n",
      "   delivery_number  \n",
      "0              NaN  \n",
      "1              NaN  \n",
      "2              NaN  \n",
      "\n",
      "           item      size  bin  delivery_loc  delivery_time  \\\n",
      "count  5.000000  5.000000  0.0      5.000000       5.000000   \n",
      "mean   2.000000  5.400000  NaN      3.000000       1.400000   \n",
      "std    1.581139  1.949359  NaN      1.581139       0.547723   \n",
      "min    0.000000  3.000000  NaN      1.000000       1.000000   \n",
      "25%    1.000000  4.000000  NaN      2.000000       1.000000   \n",
      "50%    2.000000  6.000000  NaN      3.000000       1.000000   \n",
      "75%    3.000000  6.000000  NaN      4.000000       2.000000   \n",
      "max    4.000000  8.000000  NaN      5.000000       2.000000   \n",
      "\n",
      "       delivery_dispatch  delivery_number  \n",
      "count                0.0              0.0  \n",
      "mean                 NaN              NaN  \n",
      "std                  NaN              NaN  \n",
      "min                  NaN              NaN  \n",
      "25%                  NaN              NaN  \n",
      "50%                  NaN              NaN  \n",
      "75%                  NaN              NaN  \n",
      "max                  NaN              NaN  \n",
      "\n"
     ]
    },
    {
     "data": {
      "text/html": [
       "<div>\n",
       "<style>\n",
       "    .dataframe thead tr:only-child th {\n",
       "        text-align: right;\n",
       "    }\n",
       "\n",
       "    .dataframe thead th {\n",
       "        text-align: left;\n",
       "    }\n",
       "\n",
       "    .dataframe tbody tr th {\n",
       "        vertical-align: top;\n",
       "    }\n",
       "</style>\n",
       "<table border=\"1\" class=\"dataframe\">\n",
       "  <thead>\n",
       "    <tr style=\"text-align: right;\">\n",
       "      <th></th>\n",
       "      <th>size</th>\n",
       "      <th>bin</th>\n",
       "      <th>delivery_loc</th>\n",
       "      <th>delivery_time</th>\n",
       "      <th>delivery_dispatch</th>\n",
       "      <th>delivery_number</th>\n",
       "    </tr>\n",
       "    <tr>\n",
       "      <th>item</th>\n",
       "      <th></th>\n",
       "      <th></th>\n",
       "      <th></th>\n",
       "      <th></th>\n",
       "      <th></th>\n",
       "      <th></th>\n",
       "    </tr>\n",
       "  </thead>\n",
       "  <tbody>\n",
       "    <tr>\n",
       "      <th>0</th>\n",
       "      <td>4</td>\n",
       "      <td>NaN</td>\n",
       "      <td>4</td>\n",
       "      <td>2</td>\n",
       "      <td>NaN</td>\n",
       "      <td>NaN</td>\n",
       "    </tr>\n",
       "    <tr>\n",
       "      <th>1</th>\n",
       "      <td>3</td>\n",
       "      <td>NaN</td>\n",
       "      <td>2</td>\n",
       "      <td>1</td>\n",
       "      <td>NaN</td>\n",
       "      <td>NaN</td>\n",
       "    </tr>\n",
       "    <tr>\n",
       "      <th>2</th>\n",
       "      <td>6</td>\n",
       "      <td>NaN</td>\n",
       "      <td>1</td>\n",
       "      <td>2</td>\n",
       "      <td>NaN</td>\n",
       "      <td>NaN</td>\n",
       "    </tr>\n",
       "    <tr>\n",
       "      <th>3</th>\n",
       "      <td>8</td>\n",
       "      <td>NaN</td>\n",
       "      <td>5</td>\n",
       "      <td>1</td>\n",
       "      <td>NaN</td>\n",
       "      <td>NaN</td>\n",
       "    </tr>\n",
       "    <tr>\n",
       "      <th>4</th>\n",
       "      <td>6</td>\n",
       "      <td>NaN</td>\n",
       "      <td>3</td>\n",
       "      <td>1</td>\n",
       "      <td>NaN</td>\n",
       "      <td>NaN</td>\n",
       "    </tr>\n",
       "  </tbody>\n",
       "</table>\n",
       "</div>"
      ],
      "text/plain": [
       "      size  bin  delivery_loc  delivery_time  delivery_dispatch  \\\n",
       "item                                                              \n",
       "0        4  NaN             4              2                NaN   \n",
       "1        3  NaN             2              1                NaN   \n",
       "2        6  NaN             1              2                NaN   \n",
       "3        8  NaN             5              1                NaN   \n",
       "4        6  NaN             3              1                NaN   \n",
       "\n",
       "      delivery_number  \n",
       "item                   \n",
       "0                 NaN  \n",
       "1                 NaN  \n",
       "2                 NaN  \n",
       "3                 NaN  \n",
       "4                 NaN  "
      ]
     },
     "execution_count": 4,
     "metadata": {},
     "output_type": "execute_result"
    }
   ],
   "source": [
    "df_items = read_data('%s.csv'%items)\n",
    "print(\"rows(%s) x cols(%s) \"%check_packaging(df_items))\n",
    "print()\n",
    "print(\"%s\"%data_check(df_items))\n",
    "print()\n",
    "print(check_ns(df_items))\n",
    "print()\n",
    "df_items.set_index('item')"
   ]
  },
  {
   "cell_type": "markdown",
   "metadata": {},
   "source": [
    "#### Vehicle data"
   ]
  },
  {
   "cell_type": "code",
   "execution_count": 5,
   "metadata": {},
   "outputs": [
    {
     "name": "stdout",
     "output_type": "stream",
     "text": [
      "rows(3) x cols(8) \n",
      "\n",
      "   bin  size  available_space  delivery_time_dispatch  route_dist  \\\n",
      "0    0     4                4                     NaN         NaN   \n",
      "1    1     3                3                     NaN         NaN   \n",
      "2    2     9                9                     NaN         NaN   \n",
      "\n",
      "   bin_penalty  route_cost  distance_per_item  \n",
      "0          1.0         NaN                NaN  \n",
      "1          0.8         NaN                NaN  \n",
      "2          2.0         NaN                NaN  \n",
      "\n",
      "       bin      size  available_space  delivery_time_dispatch  route_dist  \\\n",
      "count  3.0  3.000000         3.000000                     0.0         0.0   \n",
      "mean   1.0  5.333333         5.333333                     NaN         NaN   \n",
      "std    1.0  3.214550         3.214550                     NaN         NaN   \n",
      "min    0.0  3.000000         3.000000                     NaN         NaN   \n",
      "25%    0.5  3.500000         3.500000                     NaN         NaN   \n",
      "50%    1.0  4.000000         4.000000                     NaN         NaN   \n",
      "75%    1.5  6.500000         6.500000                     NaN         NaN   \n",
      "max    2.0  9.000000         9.000000                     NaN         NaN   \n",
      "\n",
      "       bin_penalty  route_cost  distance_per_item  \n",
      "count     3.000000         0.0                0.0  \n",
      "mean      1.266667         NaN                NaN  \n",
      "std       0.642910         NaN                NaN  \n",
      "min       0.800000         NaN                NaN  \n",
      "25%       0.900000         NaN                NaN  \n",
      "50%       1.000000         NaN                NaN  \n",
      "75%       1.500000         NaN                NaN  \n",
      "max       2.000000         NaN                NaN  \n",
      "\n"
     ]
    },
    {
     "data": {
      "text/html": [
       "<div>\n",
       "<style>\n",
       "    .dataframe thead tr:only-child th {\n",
       "        text-align: right;\n",
       "    }\n",
       "\n",
       "    .dataframe thead th {\n",
       "        text-align: left;\n",
       "    }\n",
       "\n",
       "    .dataframe tbody tr th {\n",
       "        vertical-align: top;\n",
       "    }\n",
       "</style>\n",
       "<table border=\"1\" class=\"dataframe\">\n",
       "  <thead>\n",
       "    <tr style=\"text-align: right;\">\n",
       "      <th></th>\n",
       "      <th>size</th>\n",
       "      <th>available_space</th>\n",
       "      <th>delivery_time_dispatch</th>\n",
       "      <th>route_dist</th>\n",
       "      <th>bin_penalty</th>\n",
       "      <th>route_cost</th>\n",
       "      <th>distance_per_item</th>\n",
       "    </tr>\n",
       "    <tr>\n",
       "      <th>bin</th>\n",
       "      <th></th>\n",
       "      <th></th>\n",
       "      <th></th>\n",
       "      <th></th>\n",
       "      <th></th>\n",
       "      <th></th>\n",
       "      <th></th>\n",
       "    </tr>\n",
       "  </thead>\n",
       "  <tbody>\n",
       "    <tr>\n",
       "      <th>0</th>\n",
       "      <td>4</td>\n",
       "      <td>4</td>\n",
       "      <td>NaN</td>\n",
       "      <td>NaN</td>\n",
       "      <td>1.0</td>\n",
       "      <td>NaN</td>\n",
       "      <td>NaN</td>\n",
       "    </tr>\n",
       "    <tr>\n",
       "      <th>1</th>\n",
       "      <td>3</td>\n",
       "      <td>3</td>\n",
       "      <td>NaN</td>\n",
       "      <td>NaN</td>\n",
       "      <td>0.8</td>\n",
       "      <td>NaN</td>\n",
       "      <td>NaN</td>\n",
       "    </tr>\n",
       "    <tr>\n",
       "      <th>2</th>\n",
       "      <td>9</td>\n",
       "      <td>9</td>\n",
       "      <td>NaN</td>\n",
       "      <td>NaN</td>\n",
       "      <td>2.0</td>\n",
       "      <td>NaN</td>\n",
       "      <td>NaN</td>\n",
       "    </tr>\n",
       "  </tbody>\n",
       "</table>\n",
       "</div>"
      ],
      "text/plain": [
       "     size  available_space  delivery_time_dispatch  route_dist  bin_penalty  \\\n",
       "bin                                                                           \n",
       "0       4                4                     NaN         NaN          1.0   \n",
       "1       3                3                     NaN         NaN          0.8   \n",
       "2       9                9                     NaN         NaN          2.0   \n",
       "\n",
       "     route_cost  distance_per_item  \n",
       "bin                                 \n",
       "0           NaN                NaN  \n",
       "1           NaN                NaN  \n",
       "2           NaN                NaN  "
      ]
     },
     "execution_count": 5,
     "metadata": {},
     "output_type": "execute_result"
    }
   ],
   "source": [
    "df_vehicles = read_data('%s.csv'%bins)\n",
    "print(\"rows(%s) x cols(%s) \"%check_packaging(df_vehicles))\n",
    "print()\n",
    "print(\"%s\"%data_check(df_vehicles))\n",
    "print()\n",
    "print(check_ns(df_vehicles))\n",
    "print()\n",
    "df_vehicles.set_index('bin')"
   ]
  },
  {
   "cell_type": "markdown",
   "metadata": {},
   "source": [
    "#### City data \n",
    "(Not all states are connected)"
   ]
  },
  {
   "cell_type": "code",
   "execution_count": 6,
   "metadata": {},
   "outputs": [
    {
     "name": "stdout",
     "output_type": "stream",
     "text": [
      "rows(6) x cols(6) \n",
      "\n",
      "     0    1    2    3    4   5\n",
      "0  NaN  NaN  1.0  3.0  NaN NaN\n",
      "1  NaN  NaN  2.0  3.0  1.0 NaN\n",
      "2  1.0  2.0  NaN  4.0  NaN NaN\n",
      "\n",
      "              0    1         2         3    4    5\n",
      "count  2.000000  3.0  4.000000  4.000000  1.0  2.0\n",
      "mean   2.000000  2.0  2.250000  3.000000  1.0  2.0\n",
      "std    1.414214  1.0  1.258306  0.816497  NaN  0.0\n",
      "min    1.000000  1.0  1.000000  2.000000  1.0  2.0\n",
      "25%    1.500000  1.5  1.750000  2.750000  1.0  2.0\n",
      "50%    2.000000  2.0  2.000000  3.000000  1.0  2.0\n",
      "75%    2.500000  2.5  2.500000  3.250000  1.0  2.0\n",
      "max    3.000000  3.0  4.000000  4.000000  1.0  2.0\n",
      "\n",
      "Number of cities including depot:  6\n"
     ]
    }
   ],
   "source": [
    "df_cityDist = read_data('%s.csv'%city_dist)\n",
    "print(\"rows(%s) x cols(%s) \"%check_packaging(df_cityDist))\n",
    "print()\n",
    "print(\"%s\"%data_check(df_cityDist))\n",
    "print()\n",
    "print(check_ns(df_cityDist))\n",
    "print()\n",
    "num_cities = df_cityDist.shape[0]\n",
    "# df_cityDist.set_index('city')\n",
    "print('Number of cities including depot: ', num_cities)"
   ]
  },
  {
   "cell_type": "markdown",
   "metadata": {},
   "source": [
    "#### Symmetric distance matrx"
   ]
  },
  {
   "cell_type": "code",
   "execution_count": 7,
   "metadata": {},
   "outputs": [
    {
     "name": "stdout",
     "output_type": "stream",
     "text": [
      "rows(6) x cols(6) \n",
      "\n",
      "      0     1     2     3     4     5\n",
      "0   NaN  36.0  32.0  54.0  20.0  40.0\n",
      "1  36.0   NaN  22.0  58.0  54.0  67.0\n",
      "2  32.0  22.0   NaN  36.0  42.0  71.0\n",
      "\n",
      "              0          1          2          3          4         5\n",
      "count   5.00000   5.000000   5.000000   5.000000   5.000000   5.00000\n",
      "mean   36.40000  47.400000  40.600000  58.000000  42.200000  63.00000\n",
      "std    12.36123  18.132843  18.487834  20.736441  13.236314  21.05944\n",
      "min    20.00000  22.000000  22.000000  36.000000  20.000000  40.00000\n",
      "25%    32.00000  36.000000  32.000000  50.000000  42.000000  45.00000\n",
      "50%    36.00000  54.000000  36.000000  54.000000  45.000000  67.00000\n",
      "75%    40.00000  58.000000  42.000000  58.000000  50.000000  71.00000\n",
      "max    54.00000  67.000000  71.000000  92.000000  54.000000  92.00000\n",
      "\n",
      "Number of cities including depot:  6\n"
     ]
    }
   ],
   "source": [
    "df_distMat = read_data('%s.csv'%dist_mat)\n",
    "print(\"rows(%s) x cols(%s) \"%check_packaging(df_distMat))\n",
    "print()\n",
    "print(\"%s\"%data_check(df_distMat))\n",
    "print()\n",
    "print(check_ns(df_distMat))\n",
    "print()\n",
    "num_cities = df_distMat.shape[0]\n",
    "# df_cityDist.set_index('city')\n",
    "print('Number of cities including depot: ', num_cities)"
   ]
  },
  {
   "cell_type": "markdown",
   "metadata": {},
   "source": [
    "# BIN PACKING PROBLEM\n",
    "<font color='royalblue'>The Bin Packing Proble (BPP) component entails packing the $n$ deliverable items into the minimum number of bins without exceeding its fixed capacity and has the minimum wastage of space.\n",
    " In this case our bins are the subset of available delivery vehicles, into which the items are to be packed.\n",
    "Note, not all the items that are required to be distributed are the same in size.</font>\n",
    "\n",
    "# One dimesional\n",
    "<font color='grass'>\n",
    "In order to simplify the problem, we initially consider the problem to be one dimensional. Only one dimension of the item is not fixed, for example length, whilst the other two dimensions (width and height) remain constant.\n",
    "</font>\n",
    "\n"
   ]
  },
  {
   "cell_type": "code",
   "execution_count": 8,
   "metadata": {
    "collapsed": true
   },
   "outputs": [],
   "source": [
    "#bin summary\n",
    "def bin_summary(df_vehicles):\n",
    "    number_of_bins = df_vehicles.shape[0]\n",
    "    unused = 0\n",
    "    partial = 0\n",
    "    max_fill = 0\n",
    "    for i in range(number_of_bins):\n",
    "        av_space = df_vehicles.loc[i,'available_space']\n",
    "        bin_size = df_vehicles.loc[i, 'size']\n",
    "        if av_space == bin_size:\n",
    "            unused = unused + 1\n",
    "        elif av_space == 0:\n",
    "            max_fill = max_fill +1\n",
    "        elif av_space < bin_size and av_space!=0:\n",
    "            partial = partial+1\n",
    "            \n",
    "    print(\"Number of bins : %d\" %(number_of_bins))\n",
    "    print(\"Number of partial filled bins : %d\" %(partial))\n",
    "    print(\"Number of unused bins : %d\" %(unused))\n",
    "    print(\"Number of max filled bins : %d\" %(max_fill))\n",
    "    return None"
   ]
  },
  {
   "cell_type": "code",
   "execution_count": 9,
   "metadata": {
    "collapsed": true
   },
   "outputs": [],
   "source": [
    "#number of items not accounted for\n",
    "def unpacked_items(df_items):\n",
    "    number_of_items = df_items.shape[0]\n",
    "    not_packed = 0\n",
    "    for i in range(number_of_items):\n",
    "        if df_items.loc[i, 'bin'] == nan:\n",
    "            not_packed = not_packed +1        \n",
    "    return not_packed"
   ]
  },
  {
   "cell_type": "markdown",
   "metadata": {},
   "source": [
    "# GREEDY APPROACH\n",
    "<font color='darkorange'>A technique which makes locally optimal choices with hope of obtaining the global optimum. \n",
    "</font>\n",
    "\n",
    "## Fit algorithms:  \n",
    "\n",
    "### First-fit algorithm:\n",
    "<font color='rebeccapurple'>\n",
    "Algorithm scans the bins for the first bin which has a large enough space to fit the item. If the current bin has adequate space, the items is allocated to the bin, else the next bin is checked. For the next item, we iterate the bins from the FIRST bin (hence first fit algorithm).\n",
    "</font>"
   ]
  },
  {
   "cell_type": "code",
   "execution_count": 10,
   "metadata": {
    "collapsed": true
   },
   "outputs": [],
   "source": [
    "# INPUT:subset of items in a particular delivery time. Note these are in 'raw form'. They have ro be in indexed. \n",
    "        #orginal items and vehicle dataframe\n",
    "#OUTPUT: returns the updated item data frame, where the subset of items were allocated bins\n",
    "        # updated bin which has the summary of space left in the bin\n",
    "def first_fit(df_subItems, df_items, df_vehicles): #CHANGE1\n",
    "    number_of_subItems = df_subItems.shape[0]#CHANGE2\n",
    "    number_of_bins = df_vehicles.shape[0]\n",
    "    df_subItems.index = range(0,number_of_subItems)#reindexsubitems    #CHANGE3\n",
    "    for i in range(number_of_subItems): #CHANGE4\n",
    "        item_no = df_subItems.loc[i,'item']#CHANGE5\n",
    "        j = 0\n",
    "        item_allocated = False\n",
    "        item_size = df_subItems.loc[i,'size']#CHANGE6\n",
    "        while j<= number_of_bins and item_allocated == False:\n",
    "            available_bin_space = df_vehicles.loc[j,'available_space']\n",
    "            if available_bin_space >= item_size: #if adequate space in the bin for the item\n",
    "                item_allocated = True\n",
    "                df_vehicles.loc[j,'available_space'] = df_vehicles.loc[j,'available_space'] - item_size #update avialable space\n",
    "                bin_num = df_vehicles.loc[j,'bin']\n",
    "                df_items.loc[item_no,'bin'] = bin_num#set the allocated bin for the item  #CHANGE7\n",
    "            elif available_bin_space < item_size: #if NOT adequate space in the curr bin for the item\n",
    "                #move to the next bin\n",
    "                j = j+1 \n",
    "                if j>=number_of_bins: #if none of the bins are large enough to house the item\n",
    "                    item_allocated = True\n",
    "                    df_items.loc[item_no,'bin'] = np.nan     #CHANGE8\n",
    "    return df_items, df_vehicles"
   ]
  },
  {
   "cell_type": "code",
   "execution_count": 11,
   "metadata": {},
   "outputs": [],
   "source": [
    "# df_items"
   ]
  },
  {
   "cell_type": "code",
   "execution_count": 12,
   "metadata": {},
   "outputs": [],
   "source": [
    "# temp1 = df_items[df_items.delivery_time == 1]\n",
    "# temp1"
   ]
  },
  {
   "cell_type": "code",
   "execution_count": 13,
   "metadata": {},
   "outputs": [],
   "source": [
    "# df_vehicles"
   ]
  },
  {
   "cell_type": "code",
   "execution_count": 14,
   "metadata": {},
   "outputs": [],
   "source": [
    "# items, bins = first_fit(temp1, df_items, df_vehicles)\n",
    "# display(items)\n"
   ]
  },
  {
   "cell_type": "code",
   "execution_count": 15,
   "metadata": {},
   "outputs": [
    {
     "data": {
      "text/plain": [
       "'bins'"
      ]
     },
     "metadata": {},
     "output_type": "display_data"
    }
   ],
   "source": [
    "display(bins)"
   ]
  },
  {
   "cell_type": "markdown",
   "metadata": {
    "collapsed": true
   },
   "source": [
    "### Next-fit algorithm\n",
    "<font color='rebeccapurple'>After allocating first bin large enough to house the item, when looking at the next item to be allocated, find the next suitable bin from the current bin. NOT starting from the very first bin. Check from the next bin in a loop, and stop at the bin before the last allocated (current bin). The search space is from current bin to the previous in a loop."
   ]
  },
  {
   "cell_type": "code",
   "execution_count": 16,
   "metadata": {
    "collapsed": true
   },
   "outputs": [],
   "source": [
    "def next_fit(df_subItems, df_items, df_vehicles):\n",
    "    number_of_subItems = df_subItems.shape[0]\n",
    "    number_of_bins = df_vehicles.shape[0]\n",
    "    df_subItems.index = range(0,number_of_subItems)#reindexsubitems\n",
    "    j = 0\n",
    "    for i in range(number_of_subItems):\n",
    "        item_no = df_subItems.loc[i,'item']\n",
    "        item_allocated = False\n",
    "        item_size = df_subItems.loc[i,'size']\n",
    "        while item_allocated == False and j<= number_of_bins:\n",
    "            available_bin_space = df_vehicles.loc[j,'available_space']\n",
    "            if available_bin_space >= item_size: #if adequate space in the bin for the item\n",
    "                item_allocated = True\n",
    "                df_vehicles.loc[j,'available_space'] = df_vehicles.loc[j,'available_space'] - item_size #update avialable space\n",
    "                bin_num = df_vehicles.loc[j,'bin']\n",
    "                df_items.loc[item_no,'bin'] = bin_num #set the allocated bin for the item\n",
    "                j_curr = j\n",
    "            elif available_bin_space < item_size: #if NOT adequate space in the curr bin for the item\n",
    "                #move to the next bin\n",
    "                j = j+1 \n",
    "                if j>=number_of_bins: #if none of the bins are large enough to house the item\n",
    "                    j = 0\n",
    "                    if j_curr == j:\n",
    "                        item_allocated = True\n",
    "                        df_items.loc[item_no,'bin'] = np.nan\n",
    "                        j = j_curr\n",
    "    return df_items, df_vehicles"
   ]
  },
  {
   "cell_type": "markdown",
   "metadata": {},
   "source": [
    "### Best-fit algorithm\n",
    "<font color='rebeccapurple'>Allocating item to a in such that there is minimum wastage of space is left in in the bin.\n",
    "<\\font>"
   ]
  },
  {
   "cell_type": "code",
   "execution_count": 17,
   "metadata": {
    "collapsed": true
   },
   "outputs": [],
   "source": [
    "def best_fit(df_subItems, df_items, df_vehicles):\n",
    "    number_of_subItems = df_subItems.shape[0]\n",
    "    number_of_bins = df_vehicles.shape[0]\n",
    "    df_subItems.index = range(0,number_of_subItems)#reindexsubitems\n",
    "\n",
    "    for i in range(number_of_subItems):\n",
    "        item_no = df_subItems.loc[i,'item']\n",
    "        j = 0\n",
    "        item_allocated = False\n",
    "        item_size = df_subItems.loc[i,'size']\n",
    "        df_vehicles = df_vehicles.sort_values(by='available_space', ascending=1).reset_index(drop=True)#after each iteration, order bins as per min space, so less wastage\n",
    "        while j<= number_of_bins and item_allocated == False:\n",
    "            available_bin_space = df_vehicles.loc[j,'available_space']\n",
    "            if available_bin_space >= item_size: #if adequate space in the bin for the item\n",
    "                item_allocated = True\n",
    "                df_vehicles.loc[j,'available_space'] = df_vehicles.loc[j,'available_space'] - item_size #update avialable space\n",
    "                bin_num = df_vehicles.loc[j,'bin']\n",
    "                df_items.loc[item_no,'bin'] = bin_num#set the allocated bin for the item\n",
    "            elif available_bin_space < item_size: #if NOT adequate space in the curr bin for the item\n",
    "                #move to the next bin\n",
    "                j = j+1 \n",
    "                if j>=number_of_bins: #if none of the bins are large enough to house the item\n",
    "                    item_allocated = True\n",
    "                    df_items.loc[item_no,'bin'] = np.nan\n",
    "    return df_items, df_vehicles"
   ]
  },
  {
   "cell_type": "markdown",
   "metadata": {
    "tags": [
     "cases"
    ]
   },
   "source": [
    "### Worst-fit algorithm\n",
    "<font color='orange'>Allocating item to a bin such that there is maximum wastage of space is left in in the bin.\n",
    "<\\font>"
   ]
  },
  {
   "cell_type": "code",
   "execution_count": 18,
   "metadata": {
    "collapsed": true
   },
   "outputs": [],
   "source": [
    "def worst_fit(df_subItems, df_items, df_vehicles):\n",
    "    number_of_subItems = df_subItems.shape[0]\n",
    "    number_of_bins = df_vehicles.shape[0]\n",
    "    df_subItems.index = range(0,number_of_subItems)#reindexsubitems\n",
    "\n",
    "    for i in range(number_of_subItems):\n",
    "        item_no = df_subItems.loc[i,'item']\n",
    "        j = 0\n",
    "        item_allocated = False\n",
    "        item_size = df_subItems.loc[i,'size']\n",
    "        df_vehicles = df_vehicles.sort_values(by='available_space', ascending=0).reset_index(drop=True)#after each iteration, order bins as per min space, so less wastage\n",
    "        while j<= number_of_bins and item_allocated == False:\n",
    "            available_bin_space = df_vehicles.loc[j,'available_space']\n",
    "            if available_bin_space >= item_size: #if adequate space in the bin for the item\n",
    "                item_allocated = True\n",
    "                df_vehicles.loc[j,'available_space'] = df_vehicles.loc[j,'available_space'] - item_size #update avialable space\n",
    "                bin_num = df_vehicles.loc[j,'bin']\n",
    "                df_items.loc[item_no,'bin'] = bin_num#set the allocated bin for the item\n",
    "            elif available_bin_space < item_size: #if NOT adequate space in the curr bin for the item\n",
    "                #move to the next bin\n",
    "                j = j+1 \n",
    "                if j>=number_of_bins: #if none of the bins are large enough to house the item\n",
    "                    item_allocated = True\n",
    "                    df_items.loc[item_no,'bin'] = np.nan\n",
    "    return df_items, df_vehicles"
   ]
  },
  {
   "cell_type": "markdown",
   "metadata": {},
   "source": [
    "# PROBABILISTIC APPROACH\n",
    "<font color='darkorange'>A technique which makes probabilistic choices with hope of obtaining the global optimum. \n",
    "</font>\n",
    "\n",
    "## GENETIC ALGORITHM:  \n",
    "##### From: Paper[GGA_FALKENEUR]\n",
    "<font color='rebeccapurple'>\n",
    "Group Genetic Algorithm (GGA), is a modification to the genetic algorithm to suit the structure of grouping problems. We aim to find a good partition of a set, or to group together the elements of the set. \n",
    "4 Steps:\n",
    "1. ENCODING: obtain initial population for each bin, by randomising the order of the items and applying the first ft algorithm. All the solutions are parents.\n",
    "2. CROSSOVER: Has 5 sub-steps: \n",
    "    1. Select the same random crossing site in two parents.\n",
    "    2. Injest the contents of the first parent at the cross section in at the second parent's cross section, creating children.\n",
    "    3. Replicated elements are removed.  \n",
    "    4. Adapt results such that constraints are adhered to. \n",
    "    5. Rank the fitness of the children.\n",
    "3. MUTATION: Shuffle a small group of items among groups.\n",
    "4. INVERSION: do a random bit swop.\n",
    "\n",
    "NOTE: IT IS AN UNEDUATED SEARCH SPACE CREATED\n",
    "</font>\n",
    "\n",
    "## STEP 1: ENCODING\n",
    "1. Generating the initial population for th $k$ bins. For $n$ items, generate $n$ parents. \n",
    "2. Apply first-fit algorithm to each of the $n$ lists. \n",
    "3. For each list, we generate a solution for each of the $k$ bins.\n",
    "4. TABLE: $x$ = LIST$_i$ Bins, and $y$ = Items, filled with bin j accordingly. Where $i \\epsilon n$, and $j \\epsilon k$  \n",
    "5. OUTPUT: A population of bins to which items are allocated\n",
    "6. <font color='red'>NOTE: LISTS = THE VARIOUS COMBINATIONS OF FIRST FIT ALGORITHM APPLIED"
   ]
  },
  {
   "cell_type": "markdown",
   "metadata": {},
   "source": [
    "#### Encoding Initial population"
   ]
  },
  {
   "cell_type": "code",
   "execution_count": 19,
   "metadata": {
    "collapsed": true
   },
   "outputs": [],
   "source": [
    "#creates a list of new column names\n",
    "def rename_col(num_cols):\n",
    "    string = 'list'\n",
    "    s1 = []\n",
    "    for i in range(num_cols): # This is just to tell you how to create a list.\n",
    "        updated_name = string + str(i)\n",
    "        s1.append(updated_name)\n",
    "    return s1\n"
   ]
  },
  {
   "cell_type": "code",
   "execution_count": 20,
   "metadata": {
    "collapsed": true
   },
   "outputs": [],
   "source": [
    "#INPUT: vehicle dataframe - vehicles and its capacity\n",
    "    #        item dataframe - item size\n",
    "    #        dimension - 1 if 1D items/vehicles and 2 if 2D items/vehicles\n",
    "def encoding(df_subset_items, df_items, df_vehicles, dimension):\n",
    "    num_items = df_items.shape[0]# total number of items\n",
    "    n = df_subset_items.shape[0] #number of items in subset of items\n",
    "    k = df_vehicles.shape[0]#number of bins\n",
    "    updated_name = rename_col(n)\n",
    "    \n",
    "    if dimension == 1:\n",
    "        newDF_items = pd.DataFrame(np.zeros((num_items, 3+n))) #initialise a new dataframe of size of the number of total items\n",
    "        newDF_bins = pd.DataFrame(np.zeros((k,2+n))) #initialise a new dataframe\n",
    "        newDF_items.rename(columns={0:'item'}, inplace=True)\n",
    "        newDF_items.rename(columns={1:'size'}, inplace=True)\n",
    "        newDF_items.rename(columns={2:'delivery_time'}, inplace=True)\n",
    "        newDF_bins.rename(columns={0:'bin'}, inplace=True)\n",
    "        newDF_bins.rename(columns={1:'size'}, inplace=True)\n",
    "        \n",
    "        newDF_items.loc[:,'item'] = df_items.loc[:,'item']\n",
    "        newDF_items.loc[:,'size'] = df_items.loc[:,'size']\n",
    "        newDF_items.loc[:,'delivery_time'] = df_items.loc[:,'delivery_time']#standard to all is the items with their respective sizes\n",
    "        newDF_bins.loc[:,'bin'] = df_vehicles.loc[:,'bin']#standard to all is the bins with their respective sizes\n",
    "        newDF_bins.loc[:,'size'] = df_vehicles.loc[:,'size']\n",
    "\n",
    "        \n",
    "        #use 1d first fit\n",
    "        for i in range(n):\n",
    "            \n",
    "            df_subset_items_copy = df_subset_items.copy()# make a copy of the item list\n",
    "            df_vehicles_copy = df_vehicles.copy()# make a copy of the bin list\n",
    "            df_subset_items_copy_temp = shuffle(df_subset_items_copy) #shuffle the copy of items\n",
    "            df_items_all = df_items.copy()\n",
    "            df_items_all, df_vehicles_copy = first_fit(df_subset_items_copy_temp, df_items_all, df_vehicles_copy) #assigns items to bins using ff\n",
    "            col_name = updated_name[i]\n",
    "            newDF_items.rename(columns={i+3:'%s'%col_name}, inplace=True)\n",
    "            newDF_items.loc[:,'%s'%col_name] = df_items_all.loc[:,'bin']\n",
    "            newDF_bins.rename(columns={i+2:'%s'%col_name}, inplace=True)\n",
    "            newDF_bins.loc[:,'%s'%col_name] = df_vehicles_copy.loc[:,'available_space']\n",
    "            \n",
    "            \n",
    "    elif dimension == 2:\n",
    "        newDF_items = pd.DataFrame(np.zeros((num_items, 4+n))) #initialise a new dataframe of size of the number of total items\n",
    "        newDF_bins = pd.DataFrame(np.zeros((k,2+n))) #initialise a new dataframe\n",
    "        newDF_items.rename(columns={0:'item'}, inplace=True)\n",
    "        newDF_items.rename(columns={1:'x_size'}, inplace=True)\n",
    "        newDF_items.rename(columns={2:'y_size'}, inplace=True)\n",
    "        newDF_items.rename(columns={3:'delivery_time'}, inplace=True)\n",
    "        newDF_bins.rename(columns={0:'bin'}, inplace=True)\n",
    "        newDF_bins.rename(columns={1:'x_size'}, inplace=True)\n",
    "        newDF_bins.rename(columns={2:'y_size'}, inplace=True)\n",
    "        \n",
    "        newDF_items.loc[:,0] = df_subset_items.loc[:,'item']\n",
    "        newDF_items.loc[:,1] = df_subset_items.loc[:,'x_size']\n",
    "        newDF_items.loc[:,2] = df_subset_items.loc[:,'y_size']\n",
    "        newDF_items.loc[:,3] = df_subset_items.loc[:,'delivery_time']#standard to all is the items with their respective sizes\n",
    "        newDF_bins.loc[:,0] = df_vehicles.loc[:,'bin']#standard to all is the bins with their respective sizes\n",
    "        newDF_bins.loc[:,1] = df_vehicles.loc[:,'x_size']\n",
    "        newDF_bins.loc[:,2] = df_vehicles.loc[:,'y_size']\n",
    "\n",
    "        x_space = 'av_x_space'\n",
    "        y_space = 'av_y_space'\n",
    "        #use 2d first fit\n",
    "        for i in range(n): \n",
    "            m = str(i)\n",
    "            x = x_space + m\n",
    "            y = y_space + m\n",
    "            df_subset_items_copy = df_subset_items.copy()# make a copy of the item list\n",
    "            df_vehicles_copy = df_vehicles.copy()# make a copy of the bin list\n",
    "            df_subset_items_copy_temp = shuffle(df_subset_items_copy) #shuffle the copy of items\n",
    "            df_items_all = df_items.copy()\n",
    "            df_items_all, df_vehicles_copy = first_fit(df_subset_items_copy_temp, df_items_all, df_vehicles_copy) #assigns items to bins using ff\n",
    "            col_name = updated_name[i]\n",
    "            newDF_items.rename(columns={i+4:'%s'%col_name}, inplace=True)\n",
    "            newDF_items.loc[:,i+4] = df_items_all.loc[:,'bin'] #bin list for items\n",
    "            newDF_bins.rename(columns={(2*i)+3:'%s'%x}, inplace=True)\n",
    "            newDF_bins.loc[:,(2*i)+3] = df_vehicles_copy.loc[:,'av_x_space']\n",
    "            newDF_bins.rename(columns={(2*i)+3:'%s'%y}, inplace=True)\n",
    "            newDF_bins.loc[:,(2*i)+4] = df_vehicles_copy.loc[:,'av_y_space']\n",
    "    return newDF_items, newDF_bins"
   ]
  },
  {
   "cell_type": "code",
   "execution_count": 21,
   "metadata": {},
   "outputs": [
    {
     "data": {
      "text/html": [
       "<div>\n",
       "<style>\n",
       "    .dataframe thead tr:only-child th {\n",
       "        text-align: right;\n",
       "    }\n",
       "\n",
       "    .dataframe thead th {\n",
       "        text-align: left;\n",
       "    }\n",
       "\n",
       "    .dataframe tbody tr th {\n",
       "        vertical-align: top;\n",
       "    }\n",
       "</style>\n",
       "<table border=\"1\" class=\"dataframe\">\n",
       "  <thead>\n",
       "    <tr style=\"text-align: right;\">\n",
       "      <th></th>\n",
       "      <th>item</th>\n",
       "      <th>size</th>\n",
       "      <th>bin</th>\n",
       "      <th>delivery_loc</th>\n",
       "      <th>delivery_time</th>\n",
       "      <th>delivery_dispatch</th>\n",
       "      <th>delivery_number</th>\n",
       "    </tr>\n",
       "  </thead>\n",
       "  <tbody>\n",
       "    <tr>\n",
       "      <th>0</th>\n",
       "      <td>0</td>\n",
       "      <td>4</td>\n",
       "      <td>NaN</td>\n",
       "      <td>4</td>\n",
       "      <td>2</td>\n",
       "      <td>NaN</td>\n",
       "      <td>NaN</td>\n",
       "    </tr>\n",
       "    <tr>\n",
       "      <th>1</th>\n",
       "      <td>1</td>\n",
       "      <td>3</td>\n",
       "      <td>NaN</td>\n",
       "      <td>2</td>\n",
       "      <td>1</td>\n",
       "      <td>NaN</td>\n",
       "      <td>NaN</td>\n",
       "    </tr>\n",
       "    <tr>\n",
       "      <th>2</th>\n",
       "      <td>2</td>\n",
       "      <td>6</td>\n",
       "      <td>NaN</td>\n",
       "      <td>1</td>\n",
       "      <td>2</td>\n",
       "      <td>NaN</td>\n",
       "      <td>NaN</td>\n",
       "    </tr>\n",
       "    <tr>\n",
       "      <th>3</th>\n",
       "      <td>3</td>\n",
       "      <td>8</td>\n",
       "      <td>NaN</td>\n",
       "      <td>5</td>\n",
       "      <td>1</td>\n",
       "      <td>NaN</td>\n",
       "      <td>NaN</td>\n",
       "    </tr>\n",
       "    <tr>\n",
       "      <th>4</th>\n",
       "      <td>4</td>\n",
       "      <td>6</td>\n",
       "      <td>NaN</td>\n",
       "      <td>3</td>\n",
       "      <td>1</td>\n",
       "      <td>NaN</td>\n",
       "      <td>NaN</td>\n",
       "    </tr>\n",
       "  </tbody>\n",
       "</table>\n",
       "</div>"
      ],
      "text/plain": [
       "   item  size  bin  delivery_loc  delivery_time  delivery_dispatch  \\\n",
       "0     0     4  NaN             4              2                NaN   \n",
       "1     1     3  NaN             2              1                NaN   \n",
       "2     2     6  NaN             1              2                NaN   \n",
       "3     3     8  NaN             5              1                NaN   \n",
       "4     4     6  NaN             3              1                NaN   \n",
       "\n",
       "   delivery_number  \n",
       "0              NaN  \n",
       "1              NaN  \n",
       "2              NaN  \n",
       "3              NaN  \n",
       "4              NaN  "
      ]
     },
     "metadata": {},
     "output_type": "display_data"
    }
   ],
   "source": [
    "df_items1 = df_items[df_items.delivery_time == 1]\n",
    "display(df_items)\n"
   ]
  },
  {
   "cell_type": "code",
   "execution_count": 22,
   "metadata": {},
   "outputs": [
    {
     "data": {
      "text/html": [
       "<div>\n",
       "<style>\n",
       "    .dataframe thead tr:only-child th {\n",
       "        text-align: right;\n",
       "    }\n",
       "\n",
       "    .dataframe thead th {\n",
       "        text-align: left;\n",
       "    }\n",
       "\n",
       "    .dataframe tbody tr th {\n",
       "        vertical-align: top;\n",
       "    }\n",
       "</style>\n",
       "<table border=\"1\" class=\"dataframe\">\n",
       "  <thead>\n",
       "    <tr style=\"text-align: right;\">\n",
       "      <th></th>\n",
       "      <th>item</th>\n",
       "      <th>size</th>\n",
       "      <th>bin</th>\n",
       "      <th>delivery_loc</th>\n",
       "      <th>delivery_time</th>\n",
       "      <th>delivery_dispatch</th>\n",
       "      <th>delivery_number</th>\n",
       "    </tr>\n",
       "  </thead>\n",
       "  <tbody>\n",
       "    <tr>\n",
       "      <th>1</th>\n",
       "      <td>1</td>\n",
       "      <td>3</td>\n",
       "      <td>NaN</td>\n",
       "      <td>2</td>\n",
       "      <td>1</td>\n",
       "      <td>NaN</td>\n",
       "      <td>NaN</td>\n",
       "    </tr>\n",
       "    <tr>\n",
       "      <th>3</th>\n",
       "      <td>3</td>\n",
       "      <td>8</td>\n",
       "      <td>NaN</td>\n",
       "      <td>5</td>\n",
       "      <td>1</td>\n",
       "      <td>NaN</td>\n",
       "      <td>NaN</td>\n",
       "    </tr>\n",
       "    <tr>\n",
       "      <th>4</th>\n",
       "      <td>4</td>\n",
       "      <td>6</td>\n",
       "      <td>NaN</td>\n",
       "      <td>3</td>\n",
       "      <td>1</td>\n",
       "      <td>NaN</td>\n",
       "      <td>NaN</td>\n",
       "    </tr>\n",
       "  </tbody>\n",
       "</table>\n",
       "</div>"
      ],
      "text/plain": [
       "   item  size  bin  delivery_loc  delivery_time  delivery_dispatch  \\\n",
       "1     1     3  NaN             2              1                NaN   \n",
       "3     3     8  NaN             5              1                NaN   \n",
       "4     4     6  NaN             3              1                NaN   \n",
       "\n",
       "   delivery_number  \n",
       "1              NaN  \n",
       "3              NaN  \n",
       "4              NaN  "
      ]
     },
     "metadata": {},
     "output_type": "display_data"
    }
   ],
   "source": [
    "display(df_items1)\n"
   ]
  },
  {
   "cell_type": "code",
   "execution_count": 23,
   "metadata": {},
   "outputs": [
    {
     "data": {
      "text/html": [
       "<div>\n",
       "<style>\n",
       "    .dataframe thead tr:only-child th {\n",
       "        text-align: right;\n",
       "    }\n",
       "\n",
       "    .dataframe thead th {\n",
       "        text-align: left;\n",
       "    }\n",
       "\n",
       "    .dataframe tbody tr th {\n",
       "        vertical-align: top;\n",
       "    }\n",
       "</style>\n",
       "<table border=\"1\" class=\"dataframe\">\n",
       "  <thead>\n",
       "    <tr style=\"text-align: right;\">\n",
       "      <th></th>\n",
       "      <th>bin</th>\n",
       "      <th>size</th>\n",
       "      <th>available_space</th>\n",
       "      <th>delivery_time_dispatch</th>\n",
       "      <th>route_dist</th>\n",
       "      <th>bin_penalty</th>\n",
       "      <th>route_cost</th>\n",
       "      <th>distance_per_item</th>\n",
       "    </tr>\n",
       "  </thead>\n",
       "  <tbody>\n",
       "    <tr>\n",
       "      <th>0</th>\n",
       "      <td>0</td>\n",
       "      <td>4</td>\n",
       "      <td>4</td>\n",
       "      <td>NaN</td>\n",
       "      <td>NaN</td>\n",
       "      <td>1.0</td>\n",
       "      <td>NaN</td>\n",
       "      <td>NaN</td>\n",
       "    </tr>\n",
       "    <tr>\n",
       "      <th>1</th>\n",
       "      <td>1</td>\n",
       "      <td>3</td>\n",
       "      <td>3</td>\n",
       "      <td>NaN</td>\n",
       "      <td>NaN</td>\n",
       "      <td>0.8</td>\n",
       "      <td>NaN</td>\n",
       "      <td>NaN</td>\n",
       "    </tr>\n",
       "    <tr>\n",
       "      <th>2</th>\n",
       "      <td>2</td>\n",
       "      <td>9</td>\n",
       "      <td>9</td>\n",
       "      <td>NaN</td>\n",
       "      <td>NaN</td>\n",
       "      <td>2.0</td>\n",
       "      <td>NaN</td>\n",
       "      <td>NaN</td>\n",
       "    </tr>\n",
       "  </tbody>\n",
       "</table>\n",
       "</div>"
      ],
      "text/plain": [
       "   bin  size  available_space  delivery_time_dispatch  route_dist  \\\n",
       "0    0     4                4                     NaN         NaN   \n",
       "1    1     3                3                     NaN         NaN   \n",
       "2    2     9                9                     NaN         NaN   \n",
       "\n",
       "   bin_penalty  route_cost  distance_per_item  \n",
       "0          1.0         NaN                NaN  \n",
       "1          0.8         NaN                NaN  \n",
       "2          2.0         NaN                NaN  "
      ]
     },
     "metadata": {},
     "output_type": "display_data"
    }
   ],
   "source": [
    "display(df_vehicles)"
   ]
  },
  {
   "cell_type": "code",
   "execution_count": 24,
   "metadata": {},
   "outputs": [],
   "source": [
    "items_GA, bins_GA = encoding(df_items1,df_items, df_vehicles,dimension=1)\n"
   ]
  },
  {
   "cell_type": "code",
   "execution_count": 25,
   "metadata": {},
   "outputs": [
    {
     "data": {
      "text/html": [
       "<div>\n",
       "<style>\n",
       "    .dataframe thead tr:only-child th {\n",
       "        text-align: right;\n",
       "    }\n",
       "\n",
       "    .dataframe thead th {\n",
       "        text-align: left;\n",
       "    }\n",
       "\n",
       "    .dataframe tbody tr th {\n",
       "        vertical-align: top;\n",
       "    }\n",
       "</style>\n",
       "<table border=\"1\" class=\"dataframe\">\n",
       "  <thead>\n",
       "    <tr style=\"text-align: right;\">\n",
       "      <th></th>\n",
       "      <th>item</th>\n",
       "      <th>size</th>\n",
       "      <th>delivery_time</th>\n",
       "      <th>list0</th>\n",
       "      <th>list1</th>\n",
       "      <th>list2</th>\n",
       "    </tr>\n",
       "  </thead>\n",
       "  <tbody>\n",
       "    <tr>\n",
       "      <th>0</th>\n",
       "      <td>0</td>\n",
       "      <td>4</td>\n",
       "      <td>2</td>\n",
       "      <td>NaN</td>\n",
       "      <td>NaN</td>\n",
       "      <td>NaN</td>\n",
       "    </tr>\n",
       "    <tr>\n",
       "      <th>1</th>\n",
       "      <td>1</td>\n",
       "      <td>3</td>\n",
       "      <td>1</td>\n",
       "      <td>0.0</td>\n",
       "      <td>0.0</td>\n",
       "      <td>0.0</td>\n",
       "    </tr>\n",
       "    <tr>\n",
       "      <th>2</th>\n",
       "      <td>2</td>\n",
       "      <td>6</td>\n",
       "      <td>2</td>\n",
       "      <td>NaN</td>\n",
       "      <td>NaN</td>\n",
       "      <td>NaN</td>\n",
       "    </tr>\n",
       "    <tr>\n",
       "      <th>3</th>\n",
       "      <td>3</td>\n",
       "      <td>8</td>\n",
       "      <td>1</td>\n",
       "      <td>NaN</td>\n",
       "      <td>NaN</td>\n",
       "      <td>NaN</td>\n",
       "    </tr>\n",
       "    <tr>\n",
       "      <th>4</th>\n",
       "      <td>4</td>\n",
       "      <td>6</td>\n",
       "      <td>1</td>\n",
       "      <td>2.0</td>\n",
       "      <td>2.0</td>\n",
       "      <td>2.0</td>\n",
       "    </tr>\n",
       "  </tbody>\n",
       "</table>\n",
       "</div>"
      ],
      "text/plain": [
       "   item  size  delivery_time  list0  list1  list2\n",
       "0     0     4              2    NaN    NaN    NaN\n",
       "1     1     3              1    0.0    0.0    0.0\n",
       "2     2     6              2    NaN    NaN    NaN\n",
       "3     3     8              1    NaN    NaN    NaN\n",
       "4     4     6              1    2.0    2.0    2.0"
      ]
     },
     "execution_count": 25,
     "metadata": {},
     "output_type": "execute_result"
    }
   ],
   "source": [
    "items_GA#[items_GA.loc[:,'delivery_time'] == 1]"
   ]
  },
  {
   "cell_type": "code",
   "execution_count": 26,
   "metadata": {},
   "outputs": [
    {
     "data": {
      "text/html": [
       "<div>\n",
       "<style>\n",
       "    .dataframe thead tr:only-child th {\n",
       "        text-align: right;\n",
       "    }\n",
       "\n",
       "    .dataframe thead th {\n",
       "        text-align: left;\n",
       "    }\n",
       "\n",
       "    .dataframe tbody tr th {\n",
       "        vertical-align: top;\n",
       "    }\n",
       "</style>\n",
       "<table border=\"1\" class=\"dataframe\">\n",
       "  <thead>\n",
       "    <tr style=\"text-align: right;\">\n",
       "      <th></th>\n",
       "      <th>bin</th>\n",
       "      <th>size</th>\n",
       "      <th>list0</th>\n",
       "      <th>list1</th>\n",
       "      <th>list2</th>\n",
       "    </tr>\n",
       "  </thead>\n",
       "  <tbody>\n",
       "    <tr>\n",
       "      <th>0</th>\n",
       "      <td>0</td>\n",
       "      <td>4</td>\n",
       "      <td>1</td>\n",
       "      <td>1</td>\n",
       "      <td>1</td>\n",
       "    </tr>\n",
       "    <tr>\n",
       "      <th>1</th>\n",
       "      <td>1</td>\n",
       "      <td>3</td>\n",
       "      <td>3</td>\n",
       "      <td>3</td>\n",
       "      <td>3</td>\n",
       "    </tr>\n",
       "    <tr>\n",
       "      <th>2</th>\n",
       "      <td>2</td>\n",
       "      <td>9</td>\n",
       "      <td>3</td>\n",
       "      <td>3</td>\n",
       "      <td>3</td>\n",
       "    </tr>\n",
       "  </tbody>\n",
       "</table>\n",
       "</div>"
      ],
      "text/plain": [
       "   bin  size  list0  list1  list2\n",
       "0    0     4      1      1      1\n",
       "1    1     3      3      3      3\n",
       "2    2     9      3      3      3"
      ]
     },
     "execution_count": 26,
     "metadata": {},
     "output_type": "execute_result"
    }
   ],
   "source": [
    "bins_GA"
   ]
  },
  {
   "cell_type": "markdown",
   "metadata": {},
   "source": [
    "## CROSSOVER: \n",
    "### Parent set per bin\n",
    "Creating a dataframe per bin with parents. Boolean representation if item is in that bin or not per parent. TABLE: X= Parents/lists, Y = items. Filled with true and false. creates children $(2* ^{parents}C_2)$.\n",
    "STEPS: \n",
    "1. Get the number of bins (vehicles)\n",
    "2. For each bin create a parent dataframe. ie the initial population in boolean representation of that particular bin.\n",
    "3. Create children dataframe. The result of crossover of the parents. \n",
    "\n",
    "<font color='red'>NOTE: The crossover is happening per bin."
   ]
  },
  {
   "cell_type": "code",
   "execution_count": 27,
   "metadata": {},
   "outputs": [],
   "source": [
    "#for a particular bin, creates a boolean representation of the bin for all the lists\n",
    "# INPUT: df_population is the population of a particular delivery round (NOTE: IT IS A SUBSET)\n",
    "        # bin_number for which the parents exist\n",
    "        # mandatory_fields are the number of columns at the start of the list which are common to all parents\n",
    "def parents(df_population, bin_number, mandotary_fields):\n",
    "    df_population_copy = df_population.copy()\n",
    "    pop_rows = df_population.shape[0]\n",
    "    pop_cols = df_population.shape[1]-mandotary_fields\n",
    "    num_items  = pop_rows #number of items\n",
    "    newDF = pd.DataFrame(np.zeros((pop_rows,pop_cols))) #initialise a new dataframe\n",
    "    newDF.iloc[:,:] = False\n",
    "    newDF.index = df_population.loc[:,'item']\n",
    "    update_col_name = rename_col(num_items)\n",
    "    for j in range(num_items):#iterates all the lists\n",
    "        #get the columns in which the item is filled with the sepecific item\n",
    "        list_num = 'list'+str(j)\n",
    "        temp = df_population_copy.loc[df_population_copy['%s'%list_num]==bin_number]\n",
    "        #get the item values in array format\n",
    "        temp1 = temp.loc[:,'%s'%'item'].values#creates an array of items in that bin\n",
    "        col = update_col_name[j]\n",
    "        newDF.rename(columns={j:'%s'%col}, inplace=True)\n",
    "        for k in range(len(temp1)):\n",
    "            #boolean fill the new dataframe\n",
    "            item_val = temp1[k]\n",
    "            newDF.loc[item_val][j] = True\n",
    "            \n",
    "            \n",
    "    return newDF\n",
    "                "
   ]
  },
  {
   "cell_type": "code",
   "execution_count": 28,
   "metadata": {},
   "outputs": [
    {
     "data": {
      "text/html": [
       "<div>\n",
       "<style>\n",
       "    .dataframe thead tr:only-child th {\n",
       "        text-align: right;\n",
       "    }\n",
       "\n",
       "    .dataframe thead th {\n",
       "        text-align: left;\n",
       "    }\n",
       "\n",
       "    .dataframe tbody tr th {\n",
       "        vertical-align: top;\n",
       "    }\n",
       "</style>\n",
       "<table border=\"1\" class=\"dataframe\">\n",
       "  <thead>\n",
       "    <tr style=\"text-align: right;\">\n",
       "      <th></th>\n",
       "      <th>item</th>\n",
       "      <th>size</th>\n",
       "      <th>delivery_time</th>\n",
       "      <th>list0</th>\n",
       "      <th>list1</th>\n",
       "      <th>list2</th>\n",
       "    </tr>\n",
       "  </thead>\n",
       "  <tbody>\n",
       "    <tr>\n",
       "      <th>1</th>\n",
       "      <td>1</td>\n",
       "      <td>3</td>\n",
       "      <td>1</td>\n",
       "      <td>0.0</td>\n",
       "      <td>0.0</td>\n",
       "      <td>0.0</td>\n",
       "    </tr>\n",
       "    <tr>\n",
       "      <th>3</th>\n",
       "      <td>3</td>\n",
       "      <td>8</td>\n",
       "      <td>1</td>\n",
       "      <td>NaN</td>\n",
       "      <td>NaN</td>\n",
       "      <td>NaN</td>\n",
       "    </tr>\n",
       "    <tr>\n",
       "      <th>4</th>\n",
       "      <td>4</td>\n",
       "      <td>6</td>\n",
       "      <td>1</td>\n",
       "      <td>2.0</td>\n",
       "      <td>2.0</td>\n",
       "      <td>2.0</td>\n",
       "    </tr>\n",
       "  </tbody>\n",
       "</table>\n",
       "</div>"
      ],
      "text/plain": [
       "   item  size  delivery_time  list0  list1  list2\n",
       "1     1     3              1    0.0    0.0    0.0\n",
       "3     3     8              1    NaN    NaN    NaN\n",
       "4     4     6              1    2.0    2.0    2.0"
      ]
     },
     "execution_count": 28,
     "metadata": {},
     "output_type": "execute_result"
    }
   ],
   "source": [
    "pop = items_GA[items_GA.loc[:,'delivery_time'] == 1]\n",
    "pop"
   ]
  },
  {
   "cell_type": "code",
   "execution_count": 29,
   "metadata": {},
   "outputs": [
    {
     "data": {
      "text/html": [
       "<div>\n",
       "<style>\n",
       "    .dataframe thead tr:only-child th {\n",
       "        text-align: right;\n",
       "    }\n",
       "\n",
       "    .dataframe thead th {\n",
       "        text-align: left;\n",
       "    }\n",
       "\n",
       "    .dataframe tbody tr th {\n",
       "        vertical-align: top;\n",
       "    }\n",
       "</style>\n",
       "<table border=\"1\" class=\"dataframe\">\n",
       "  <thead>\n",
       "    <tr style=\"text-align: right;\">\n",
       "      <th></th>\n",
       "      <th>list0</th>\n",
       "      <th>list1</th>\n",
       "      <th>list2</th>\n",
       "    </tr>\n",
       "    <tr>\n",
       "      <th>item</th>\n",
       "      <th></th>\n",
       "      <th></th>\n",
       "      <th></th>\n",
       "    </tr>\n",
       "  </thead>\n",
       "  <tbody>\n",
       "    <tr>\n",
       "      <th>1</th>\n",
       "      <td>True</td>\n",
       "      <td>True</td>\n",
       "      <td>True</td>\n",
       "    </tr>\n",
       "    <tr>\n",
       "      <th>3</th>\n",
       "      <td>False</td>\n",
       "      <td>False</td>\n",
       "      <td>False</td>\n",
       "    </tr>\n",
       "    <tr>\n",
       "      <th>4</th>\n",
       "      <td>False</td>\n",
       "      <td>False</td>\n",
       "      <td>False</td>\n",
       "    </tr>\n",
       "  </tbody>\n",
       "</table>\n",
       "</div>"
      ],
      "text/plain": [
       "      list0  list1  list2\n",
       "item                     \n",
       "1      True   True   True\n",
       "3     False  False  False\n",
       "4     False  False  False"
      ]
     },
     "execution_count": 29,
     "metadata": {},
     "output_type": "execute_result"
    }
   ],
   "source": [
    "bool_parents = parents(pop,0,3)\n",
    "bool_parents"
   ]
  },
  {
   "cell_type": "code",
   "execution_count": 30,
   "metadata": {
    "collapsed": true
   },
   "outputs": [],
   "source": [
    "# #creates a dataframe with only bn info of the population\n",
    "# def parent_bins(df_population):\n",
    "#     #1D scenario:\n",
    "#     df_parent_bins = df_population.iloc[:,2:]\n",
    "#     return df_parent_bins"
   ]
  },
  {
   "cell_type": "markdown",
   "metadata": {},
   "source": [
    "### OFFSPRINGS\n",
    "select a random position and crossover parents at this point "
   ]
  },
  {
   "cell_type": "code",
   "execution_count": 31,
   "metadata": {
    "collapsed": true
   },
   "outputs": [],
   "source": [
    "# #offsprings of the parents: For each combination of parents, there is two offsprings\n",
    "# #INPUT: parent dataframe\n",
    "# #OUTPUT: children dataframe - the crossover of the parent combinations \n",
    "# def offsprings(df_parent):\n",
    "#     pointer_children = 0\n",
    "#     num_items= df_parent.shape[0]\n",
    "#     combination_of_children = (comb(num_items,2,exact=True))*2#number of combinations. Multiply by two as from 2parents we have two children\n",
    "#     random_cross_section = floor(num_items/2)#randint(0,num_items)\n",
    "#     df_offspring = pd.DataFrame(np.zeros((num_items,combination_of_children)))#initializes a dataframe of size [r,c] = [num_items,num_children(combinations of crossovers)]\n",
    "    \n",
    "#     for i in range(num_items):\n",
    "#         partA1 = df_parent.iloc[0:random_cross_section,i]#top part of parent 1\n",
    "#         partB1 = df_parent.iloc[random_cross_section:, i]#bottom part of parent 1\n",
    "#         for j in range(i, num_items):\n",
    "#             if i != j:\n",
    "#             #crossover between the two indices producing two children\n",
    "#                 partA2 = df_parent.iloc[0:random_cross_section,j]#top part of parent 2\n",
    "#                 partB2 = df_parent.iloc[random_cross_section:, j]#Bottom part of parent 2\n",
    "#                 df_offspring.iloc[0:random_cross_section,pointer_children] = partA1 #top part of parent 1 \n",
    "#                 df_offspring.iloc[random_cross_section:,pointer_children] = partB2 #Bottom part of parent 2\n",
    "#                 df_offspring.iloc[0:random_cross_section,pointer_children+1] = partA2 #top part of parent 2\n",
    "#                 df_offspring.iloc[random_cross_section:,pointer_children+1] = partB1#Bottom part of parent 1\n",
    "#                 pointer_children = pointer_children + 2\n",
    "#         i = i +1\n",
    "#     return df_offspring"
   ]
  },
  {
   "cell_type": "code",
   "execution_count": 32,
   "metadata": {},
   "outputs": [],
   "source": [
    "#offsprings of the parents: For each combination of parents, there is two offsprings\n",
    "#INPUT: parent dataframe\n",
    "#OUTPUT: children dataframe - the crossover of the parent combinations \n",
    "def offsprings(df_parent):\n",
    "    pointer_children = 0\n",
    "    num_items= df_parent.shape[0]\n",
    "    combination_of_children = (comb(num_items,2,exact=True))*2#number of combinations. Multiply by two as from 2parents we have two children\n",
    "    random_cross_section = floor(num_items/2)#randint(0,num_items)\n",
    "    df_offspring = pd.DataFrame(np.zeros((num_items,combination_of_children)))#initializes a dataframe of size [r,c] = [num_items,num_children(combinations of crossovers)]\n",
    "    \n",
    "    for i in range(num_items):\n",
    "        for j in range(num_items):\n",
    "            if i != j:\n",
    "            #crossover between the two indices producing two children\n",
    "                df_offspring.iloc[0:random_cross_section,2*i] = df_parent.iloc[0:random_cross_section,i] #T:P1 | B:P2\n",
    "                df_offspring.iloc[random_cross_section:,pointer_children] = df_parent.iloc[random_cross_section:, j] #T:P1 | B:P2\n",
    "                \n",
    "                df_offspring.iloc[0:random_cross_section,pointer_children+1] = df_parent.iloc[0:random_cross_section,j] # T:P2 | B:P1\n",
    "                df_offspring.iloc[random_cross_section:,pointer_children+1] = df_parent.iloc[random_cross_section:, i] # T:P2 | B:P1\n",
    "\n",
    "                \n",
    "                pointer_children = pointer_children + 2\n",
    "        i = i +1\n",
    "    return df_offspring"
   ]
  },
  {
   "cell_type": "code",
   "execution_count": 36,
   "metadata": {},
   "outputs": [
    {
     "ename": "IndexError",
     "evalue": "single positional indexer is out-of-bounds",
     "output_type": "error",
     "traceback": [
      "\u001b[0;31m---------------------------------------------------------------------------\u001b[0m",
      "\u001b[0;31mIndexError\u001b[0m                                Traceback (most recent call last)",
      "\u001b[0;32m<ipython-input-36-0923500a5315>\u001b[0m in \u001b[0;36m<module>\u001b[0;34m()\u001b[0m\n\u001b[0;32m----> 1\u001b[0;31m \u001b[0mdf_offspring\u001b[0m \u001b[0;34m=\u001b[0m \u001b[0moffsprings\u001b[0m\u001b[0;34m(\u001b[0m\u001b[0mbool_parents\u001b[0m\u001b[0;34m)\u001b[0m\u001b[0;34m\u001b[0m\u001b[0m\n\u001b[0m\u001b[1;32m      2\u001b[0m \u001b[0mdf_offspring\u001b[0m\u001b[0;34m\u001b[0m\u001b[0m\n",
      "\u001b[0;32m<ipython-input-31-7ab3dfcb1cd1>\u001b[0m in \u001b[0;36moffsprings\u001b[0;34m(df_parent)\u001b[0m\n\u001b[1;32m     17\u001b[0m                 \u001b[0mpartA2\u001b[0m \u001b[0;34m=\u001b[0m \u001b[0mdf_parent\u001b[0m\u001b[0;34m.\u001b[0m\u001b[0miloc\u001b[0m\u001b[0;34m[\u001b[0m\u001b[0;36m0\u001b[0m\u001b[0;34m:\u001b[0m\u001b[0mrandom_cross_section\u001b[0m\u001b[0;34m,\u001b[0m\u001b[0mj\u001b[0m\u001b[0;34m]\u001b[0m\u001b[0;31m#top part of parent 2\u001b[0m\u001b[0;34m\u001b[0m\u001b[0m\n\u001b[1;32m     18\u001b[0m                 \u001b[0mpartB2\u001b[0m \u001b[0;34m=\u001b[0m \u001b[0mdf_parent\u001b[0m\u001b[0;34m.\u001b[0m\u001b[0miloc\u001b[0m\u001b[0;34m[\u001b[0m\u001b[0mrandom_cross_section\u001b[0m\u001b[0;34m:\u001b[0m\u001b[0;34m,\u001b[0m \u001b[0mj\u001b[0m\u001b[0;34m]\u001b[0m\u001b[0;31m#Bottom part of parent 2\u001b[0m\u001b[0;34m\u001b[0m\u001b[0m\n\u001b[0;32m---> 19\u001b[0;31m                 \u001b[0mdf_offspring\u001b[0m\u001b[0;34m.\u001b[0m\u001b[0miloc\u001b[0m\u001b[0;34m[\u001b[0m\u001b[0;36m0\u001b[0m\u001b[0;34m:\u001b[0m\u001b[0mrandom_cross_section\u001b[0m\u001b[0;34m,\u001b[0m\u001b[0mpointer_children\u001b[0m\u001b[0;34m]\u001b[0m \u001b[0;34m=\u001b[0m \u001b[0mpartA1\u001b[0m \u001b[0;31m#top part of parent 1\u001b[0m\u001b[0;34m\u001b[0m\u001b[0m\n\u001b[0m\u001b[1;32m     20\u001b[0m                 \u001b[0mdf_offspring\u001b[0m\u001b[0;34m.\u001b[0m\u001b[0miloc\u001b[0m\u001b[0;34m[\u001b[0m\u001b[0mrandom_cross_section\u001b[0m\u001b[0;34m:\u001b[0m\u001b[0;34m,\u001b[0m\u001b[0mpointer_children\u001b[0m\u001b[0;34m]\u001b[0m \u001b[0;34m=\u001b[0m \u001b[0mpartB2\u001b[0m \u001b[0;31m#Bottom part of parent 2\u001b[0m\u001b[0;34m\u001b[0m\u001b[0m\n\u001b[1;32m     21\u001b[0m                 \u001b[0mdf_offspring\u001b[0m\u001b[0;34m.\u001b[0m\u001b[0miloc\u001b[0m\u001b[0;34m[\u001b[0m\u001b[0;36m0\u001b[0m\u001b[0;34m:\u001b[0m\u001b[0mrandom_cross_section\u001b[0m\u001b[0;34m,\u001b[0m\u001b[0mpointer_children\u001b[0m\u001b[0;34m+\u001b[0m\u001b[0;36m1\u001b[0m\u001b[0;34m]\u001b[0m \u001b[0;34m=\u001b[0m \u001b[0mpartA2\u001b[0m \u001b[0;31m#top part of parent 2\u001b[0m\u001b[0;34m\u001b[0m\u001b[0m\n",
      "\u001b[0;32m/home/krupa/anaconda3/lib/python3.6/site-packages/pandas/core/indexing.py\u001b[0m in \u001b[0;36m__setitem__\u001b[0;34m(self, key, value)\u001b[0m\n\u001b[1;32m    176\u001b[0m         \u001b[0;32melse\u001b[0m\u001b[0;34m:\u001b[0m\u001b[0;34m\u001b[0m\u001b[0m\n\u001b[1;32m    177\u001b[0m             \u001b[0mkey\u001b[0m \u001b[0;34m=\u001b[0m \u001b[0mcom\u001b[0m\u001b[0;34m.\u001b[0m\u001b[0m_apply_if_callable\u001b[0m\u001b[0;34m(\u001b[0m\u001b[0mkey\u001b[0m\u001b[0;34m,\u001b[0m \u001b[0mself\u001b[0m\u001b[0;34m.\u001b[0m\u001b[0mobj\u001b[0m\u001b[0;34m)\u001b[0m\u001b[0;34m\u001b[0m\u001b[0m\n\u001b[0;32m--> 178\u001b[0;31m         \u001b[0mindexer\u001b[0m \u001b[0;34m=\u001b[0m \u001b[0mself\u001b[0m\u001b[0;34m.\u001b[0m\u001b[0m_get_setitem_indexer\u001b[0m\u001b[0;34m(\u001b[0m\u001b[0mkey\u001b[0m\u001b[0;34m)\u001b[0m\u001b[0;34m\u001b[0m\u001b[0m\n\u001b[0m\u001b[1;32m    179\u001b[0m         \u001b[0mself\u001b[0m\u001b[0;34m.\u001b[0m\u001b[0m_setitem_with_indexer\u001b[0m\u001b[0;34m(\u001b[0m\u001b[0mindexer\u001b[0m\u001b[0;34m,\u001b[0m \u001b[0mvalue\u001b[0m\u001b[0;34m)\u001b[0m\u001b[0;34m\u001b[0m\u001b[0m\n\u001b[1;32m    180\u001b[0m \u001b[0;34m\u001b[0m\u001b[0m\n",
      "\u001b[0;32m/home/krupa/anaconda3/lib/python3.6/site-packages/pandas/core/indexing.py\u001b[0m in \u001b[0;36m_get_setitem_indexer\u001b[0;34m(self, key)\u001b[0m\n\u001b[1;32m    155\u001b[0m         \u001b[0;32mif\u001b[0m \u001b[0misinstance\u001b[0m\u001b[0;34m(\u001b[0m\u001b[0mkey\u001b[0m\u001b[0;34m,\u001b[0m \u001b[0mtuple\u001b[0m\u001b[0;34m)\u001b[0m\u001b[0;34m:\u001b[0m\u001b[0;34m\u001b[0m\u001b[0m\n\u001b[1;32m    156\u001b[0m             \u001b[0;32mtry\u001b[0m\u001b[0;34m:\u001b[0m\u001b[0;34m\u001b[0m\u001b[0m\n\u001b[0;32m--> 157\u001b[0;31m                 \u001b[0;32mreturn\u001b[0m \u001b[0mself\u001b[0m\u001b[0;34m.\u001b[0m\u001b[0m_convert_tuple\u001b[0m\u001b[0;34m(\u001b[0m\u001b[0mkey\u001b[0m\u001b[0;34m,\u001b[0m \u001b[0mis_setter\u001b[0m\u001b[0;34m=\u001b[0m\u001b[0;32mTrue\u001b[0m\u001b[0;34m)\u001b[0m\u001b[0;34m\u001b[0m\u001b[0m\n\u001b[0m\u001b[1;32m    158\u001b[0m             \u001b[0;32mexcept\u001b[0m \u001b[0mIndexingError\u001b[0m\u001b[0;34m:\u001b[0m\u001b[0;34m\u001b[0m\u001b[0m\n\u001b[1;32m    159\u001b[0m                 \u001b[0;32mpass\u001b[0m\u001b[0;34m\u001b[0m\u001b[0m\n",
      "\u001b[0;32m/home/krupa/anaconda3/lib/python3.6/site-packages/pandas/core/indexing.py\u001b[0m in \u001b[0;36m_convert_tuple\u001b[0;34m(self, key, is_setter)\u001b[0m\n\u001b[1;32m    222\u001b[0m                 \u001b[0;32mif\u001b[0m \u001b[0mi\u001b[0m \u001b[0;34m>=\u001b[0m \u001b[0mself\u001b[0m\u001b[0;34m.\u001b[0m\u001b[0mobj\u001b[0m\u001b[0;34m.\u001b[0m\u001b[0mndim\u001b[0m\u001b[0;34m:\u001b[0m\u001b[0;34m\u001b[0m\u001b[0m\n\u001b[1;32m    223\u001b[0m                     \u001b[0;32mraise\u001b[0m \u001b[0mIndexingError\u001b[0m\u001b[0;34m(\u001b[0m\u001b[0;34m'Too many indexers'\u001b[0m\u001b[0;34m)\u001b[0m\u001b[0;34m\u001b[0m\u001b[0m\n\u001b[0;32m--> 224\u001b[0;31m                 \u001b[0midx\u001b[0m \u001b[0;34m=\u001b[0m \u001b[0mself\u001b[0m\u001b[0;34m.\u001b[0m\u001b[0m_convert_to_indexer\u001b[0m\u001b[0;34m(\u001b[0m\u001b[0mk\u001b[0m\u001b[0;34m,\u001b[0m \u001b[0maxis\u001b[0m\u001b[0;34m=\u001b[0m\u001b[0mi\u001b[0m\u001b[0;34m,\u001b[0m \u001b[0mis_setter\u001b[0m\u001b[0;34m=\u001b[0m\u001b[0mis_setter\u001b[0m\u001b[0;34m)\u001b[0m\u001b[0;34m\u001b[0m\u001b[0m\n\u001b[0m\u001b[1;32m    225\u001b[0m                 \u001b[0mkeyidx\u001b[0m\u001b[0;34m.\u001b[0m\u001b[0mappend\u001b[0m\u001b[0;34m(\u001b[0m\u001b[0midx\u001b[0m\u001b[0;34m)\u001b[0m\u001b[0;34m\u001b[0m\u001b[0m\n\u001b[1;32m    226\u001b[0m         \u001b[0;32mreturn\u001b[0m \u001b[0mtuple\u001b[0m\u001b[0;34m(\u001b[0m\u001b[0mkeyidx\u001b[0m\u001b[0;34m)\u001b[0m\u001b[0;34m\u001b[0m\u001b[0m\n",
      "\u001b[0;32m/home/krupa/anaconda3/lib/python3.6/site-packages/pandas/core/indexing.py\u001b[0m in \u001b[0;36m_convert_to_indexer\u001b[0;34m(self, obj, axis, is_setter)\u001b[0m\n\u001b[1;32m   1761\u001b[0m             \u001b[0;32mreturn\u001b[0m \u001b[0mself\u001b[0m\u001b[0;34m.\u001b[0m\u001b[0m_convert_scalar_indexer\u001b[0m\u001b[0;34m(\u001b[0m\u001b[0mobj\u001b[0m\u001b[0;34m,\u001b[0m \u001b[0maxis\u001b[0m\u001b[0;34m)\u001b[0m\u001b[0;34m\u001b[0m\u001b[0m\n\u001b[1;32m   1762\u001b[0m \u001b[0;34m\u001b[0m\u001b[0m\n\u001b[0;32m-> 1763\u001b[0;31m         \u001b[0;32melif\u001b[0m \u001b[0mself\u001b[0m\u001b[0;34m.\u001b[0m\u001b[0m_has_valid_type\u001b[0m\u001b[0;34m(\u001b[0m\u001b[0mobj\u001b[0m\u001b[0;34m,\u001b[0m \u001b[0maxis\u001b[0m\u001b[0;34m)\u001b[0m\u001b[0;34m:\u001b[0m\u001b[0;34m\u001b[0m\u001b[0m\n\u001b[0m\u001b[1;32m   1764\u001b[0m             \u001b[0;32mreturn\u001b[0m \u001b[0mobj\u001b[0m\u001b[0;34m\u001b[0m\u001b[0m\n\u001b[1;32m   1765\u001b[0m \u001b[0;34m\u001b[0m\u001b[0m\n",
      "\u001b[0;32m/home/krupa/anaconda3/lib/python3.6/site-packages/pandas/core/indexing.py\u001b[0m in \u001b[0;36m_has_valid_type\u001b[0;34m(self, key, axis)\u001b[0m\n\u001b[1;32m   1595\u001b[0m             \u001b[0;32mreturn\u001b[0m \u001b[0;32mTrue\u001b[0m\u001b[0;34m\u001b[0m\u001b[0m\n\u001b[1;32m   1596\u001b[0m         \u001b[0;32melif\u001b[0m \u001b[0mis_integer\u001b[0m\u001b[0;34m(\u001b[0m\u001b[0mkey\u001b[0m\u001b[0;34m)\u001b[0m\u001b[0;34m:\u001b[0m\u001b[0;34m\u001b[0m\u001b[0m\n\u001b[0;32m-> 1597\u001b[0;31m             \u001b[0;32mreturn\u001b[0m \u001b[0mself\u001b[0m\u001b[0;34m.\u001b[0m\u001b[0m_is_valid_integer\u001b[0m\u001b[0;34m(\u001b[0m\u001b[0mkey\u001b[0m\u001b[0;34m,\u001b[0m \u001b[0maxis\u001b[0m\u001b[0;34m)\u001b[0m\u001b[0;34m\u001b[0m\u001b[0m\n\u001b[0m\u001b[1;32m   1598\u001b[0m         \u001b[0;32melif\u001b[0m \u001b[0mis_list_like_indexer\u001b[0m\u001b[0;34m(\u001b[0m\u001b[0mkey\u001b[0m\u001b[0;34m)\u001b[0m\u001b[0;34m:\u001b[0m\u001b[0;34m\u001b[0m\u001b[0m\n\u001b[1;32m   1599\u001b[0m             \u001b[0;32mreturn\u001b[0m \u001b[0mself\u001b[0m\u001b[0;34m.\u001b[0m\u001b[0m_is_valid_list_like\u001b[0m\u001b[0;34m(\u001b[0m\u001b[0mkey\u001b[0m\u001b[0;34m,\u001b[0m \u001b[0maxis\u001b[0m\u001b[0;34m)\u001b[0m\u001b[0;34m\u001b[0m\u001b[0m\n",
      "\u001b[0;32m/home/krupa/anaconda3/lib/python3.6/site-packages/pandas/core/indexing.py\u001b[0m in \u001b[0;36m_is_valid_integer\u001b[0;34m(self, key, axis)\u001b[0m\n\u001b[1;32m   1636\u001b[0m         \u001b[0ml\u001b[0m \u001b[0;34m=\u001b[0m \u001b[0mlen\u001b[0m\u001b[0;34m(\u001b[0m\u001b[0max\u001b[0m\u001b[0;34m)\u001b[0m\u001b[0;34m\u001b[0m\u001b[0m\n\u001b[1;32m   1637\u001b[0m         \u001b[0;32mif\u001b[0m \u001b[0mkey\u001b[0m \u001b[0;34m>=\u001b[0m \u001b[0ml\u001b[0m \u001b[0;32mor\u001b[0m \u001b[0mkey\u001b[0m \u001b[0;34m<\u001b[0m \u001b[0;34m-\u001b[0m\u001b[0ml\u001b[0m\u001b[0;34m:\u001b[0m\u001b[0;34m\u001b[0m\u001b[0m\n\u001b[0;32m-> 1638\u001b[0;31m             \u001b[0;32mraise\u001b[0m \u001b[0mIndexError\u001b[0m\u001b[0;34m(\u001b[0m\u001b[0;34m\"single positional indexer is out-of-bounds\"\u001b[0m\u001b[0;34m)\u001b[0m\u001b[0;34m\u001b[0m\u001b[0m\n\u001b[0m\u001b[1;32m   1639\u001b[0m         \u001b[0;32mreturn\u001b[0m \u001b[0;32mTrue\u001b[0m\u001b[0;34m\u001b[0m\u001b[0m\n\u001b[1;32m   1640\u001b[0m \u001b[0;34m\u001b[0m\u001b[0m\n",
      "\u001b[0;31mIndexError\u001b[0m: single positional indexer is out-of-bounds"
     ]
    }
   ],
   "source": [
    "df_offspring = offsprings(bool_parents)\n",
    "df_offspring"
   ]
  },
  {
   "cell_type": "code",
   "execution_count": null,
   "metadata": {},
   "outputs": [],
   "source": [
    "bool_parents"
   ]
  },
  {
   "cell_type": "markdown",
   "metadata": {},
   "source": [
    "### BIN PACKING according to delivery number: \n",
    "In order to pack items to meet delivery times, we follow the following implementation:\n",
    "1. Create to subset item dataframes : delivery round 1 and delivery round two \n",
    "2. Pack fixed number of bins with \n",
    "\n",
    "The algorithm returns the item dataframe with bins it is allocated and the deliery dispatch round. There are bin dataframes returned, specific to each dispatch round. "
   ]
  },
  {
   "cell_type": "markdown",
   "metadata": {},
   "source": [
    "# The Traveling Salesman Problem (TSP)\n",
    "#### The TSP depicts a salesman who has to visit $n$ cities, returning to it's start  (home)  city, whilst not visiting any of the nodes more than once.\n",
    "# Greedy Approach\n",
    "<font color='darkorange'>A technique which makes locally optimal choices with hope of obtaining the global optimum. \n",
    "</font>\n",
    " \n",
    "Stores data in an adjacency matrix."
   ]
  },
  {
   "cell_type": "markdown",
   "metadata": {},
   "source": [
    "DistPsuedo-code for nearest neighbour algorithm:\n",
    "1. From start node (V0), find the nearest neighbour (Vn). In the zeroth row from col 1:end find the smallest distance.\n",
    "2. Put the next visited neighbour in the terminal set -> T. Add the new vertes  to the the possible set -> P. (Note: this must be assigned to Vn)\n",
    "3. Do this while D(V0) = 0\n",
    "\n",
    "<font color='blue'>Ammended to take in array of states to visit and return the order of route and the distance\n",
    "</font>"
   ]
  },
  {
   "cell_type": "code",
   "execution_count": null,
   "metadata": {
    "collapsed": true
   },
   "outputs": [],
   "source": [
    "# # Input: Array of states that need to be visited by the bin\n",
    "#     #arr_states does not include the depots\n",
    "# # OUTPUT: Array with order of states to vist and distance\n",
    "\n",
    "# def nearest_neighbour_arr(arr_states, df_distMatrix):\n",
    "#         num_states = len(arr_states)\n",
    "#         total_states = df_distMatrix.shape[0]\n",
    "        \n",
    "#         #creates an array with depot at the begining\n",
    "#         x0 = np.array([0])\n",
    "#         arr_all_states = np.concatenate((x0,arr_states,x0), axis = 0)\n",
    "        \n",
    "#         #create a possible dataframe of length of the num_states\n",
    "#         possible = pd.DataFrame(np.zeros((num_states+2,1)))# Accounts for the vertices that have been visited\n",
    "#         possible.index.name = 'possible'\n",
    "#         possible = possible.reindex(arr_all_states)\n",
    "#         possible.iloc[:,:] = True\n",
    "#         possible.iloc[0,0]= False\n",
    "        \n",
    "#         #distance calculator\n",
    "#         distances = pd.DataFrame(np.zeros((num_states+2,1)))# The distance from Vertex i to the next vertex\n",
    "#         distances.index.name = 'distances'\n",
    "#         distances = distances.reindex(arr_all_states)\n",
    "#         distances.iloc[:,:] = 0\n",
    "        \n",
    "#         #terminal set \n",
    "#         terminal_set = pd.DataFrame(np.zeros((num_states,1)))# The set/ordering of vertices that are encountered on the route\n",
    "#         terminal_set.loc[0,0] = 0\n",
    "#         terminal_set.loc[num_states,0] = 0\n",
    "        \n",
    "#         #create a distance matrix with only the columns that can be visited\n",
    "#         df_distMatrix.fillna(inf,inplace = True)\n",
    "#         df_curr_distMatrix = pd.DataFrame(np.zeros((total_states, total_states)))\n",
    "#         df_curr_distMatrix.iloc[:,:] = inf\n",
    "        \n",
    "#         for i in range(num_states):\n",
    "#             state = arr_states[i]\n",
    "#             df_curr_distMatrix.iloc[:,state] = df_distMatrix.iloc[:, state]\n",
    "#         #add the depot \n",
    "#         df_curr_distMatrix.iloc[:,0] = df_distMatrix.iloc[:,0]#begining depot\n",
    "#         #df_curr_distMatrix.iloc[:,total_states+1] = df_distMatrix.iloc[:,0]#end depot\n",
    "        \n",
    "#         #find the nearest neighbour using this updated distance matrix\n",
    "#         count = 0\n",
    "#         new_curr = 0 #depot is the first vertex\n",
    "#         #Note: iloc indexes from 0 to n-1 \n",
    "#         while( (possible.iloc[num_states+1,0]== True) and (count<num_states+2)): \n",
    "#             curr = new_curr\n",
    "#             if count < num_states:\n",
    "#                 nearest_vertex = df_curr_distMatrix.loc[curr,1:].idxmin()#gives the minimum values index ie column\n",
    "#                 nearest_vertex = int(nearest_vertex)\n",
    "#                 used_not = possible.loc[nearest_vertex,0]\n",
    "#                 if used_not == True: #if the next vertex is not used\n",
    "#                     dist = df_curr_distMatrix.iloc[curr,nearest_vertex]\n",
    "#                     distances.loc[curr,0] = dist\n",
    "#                     possible.loc[nearest_vertex,0]=False\n",
    "#                     terminal_set.iloc[count,0] = nearest_vertex\n",
    "#                     df_curr_distMatrix.iloc[:,nearest_vertex] = inf\n",
    "#                     new_curr = nearest_vertex\n",
    "#                     count = count+1\n",
    "#                 elif used_not==False:#if the next vertex is used\n",
    "#                     df_curr_distMatrix.iloc[curr,nearest_vertex]=inf\n",
    "#             elif count == num_states:\n",
    "#                 nearest_vertex = 0\n",
    "#                 dist = df_curr_distMatrix.loc[curr,0]\n",
    "#                 distances.iloc[num_states,0] = dist\n",
    "#                 possible.iloc[num_states+1,0] = False\n",
    "#                 terminal_set.loc[count,0] = 0\n",
    "#                 count = count +1\n",
    "#         arr_terminal_route_temp  = terminal_set.loc[:,0].values\n",
    "#         x0 = np.array([0])\n",
    "#         arr_terminal_route = np.concatenate((x0, arr_terminal_route_temp), axis = 0)\n",
    "#         distance = distances.iloc[0:num_states+1,0].sum() \n",
    "#         return arr_terminal_route, distance\n"
   ]
  },
  {
   "cell_type": "code",
   "execution_count": null,
   "metadata": {
    "collapsed": true
   },
   "outputs": [],
   "source": [
    "# # Input: Array of states that need to be visited by the bin\n",
    "#     #arr_states does not include the depots\n",
    "# # OUTPUT: Array with order of states to vist and distance\n",
    "\n",
    "def nearest_neighbour_arr(arr_states, df_distMatrix):\n",
    "    num_states = len(arr_states)\n",
    "    total_states = df_distMatrix.shape[0]\n",
    "\n",
    "    #creates an array with depot at the begining\n",
    "    x0 = np.array([0])\n",
    "    all_states = np.concatenate((x0,arr_states), axis = 0)\n",
    "    arr_all_states = np.concatenate((x0,arr_states,x0), axis = 0)\n",
    "\n",
    "    #distance calculator\n",
    "    distances = pd.DataFrame(np.zeros((num_states+1,1)))# The distance from Vertex i to the next vertex\n",
    "    distances.index.name = 'distances'\n",
    "    # distances = distances.reindex(all_states)\n",
    "    distances.index = range(0, len(all_states))\n",
    "    distances.iloc[:,:] = 0\n",
    "    \n",
    "\n",
    "    #terminal set \n",
    "    terminal_set = pd.DataFrame(np.zeros((num_states+1,1)))# The set/ordering of vertices that are encountered on the route\n",
    "\n",
    "\n",
    "    #create a distance matrix with only the columns that can be visited\n",
    "    df_distMatrix.fillna(inf,inplace = True)\n",
    "    df_curr_distMatrix = pd.DataFrame(np.zeros((total_states, total_states)))\n",
    "    df_curr_distMatrix.iloc[:,:] = inf\n",
    "\n",
    "    for i in range(num_states):\n",
    "        state = arr_states[i]\n",
    "        df_curr_distMatrix.iloc[:,state] = df_distMatrix.iloc[:, state]\n",
    "    #add the depot \n",
    "    df_curr_distMatrix.iloc[:,0] = df_distMatrix.iloc[:,0]#begining depot\n",
    "    \n",
    "    new_curr = 0 #depot is the first vertex\n",
    "\n",
    "    for i in range(num_states+1):\n",
    "        curr = new_curr\n",
    "        if i < num_states:\n",
    "            nearest_vertex = df_curr_distMatrix.iloc[curr, 1:].idxmin()\n",
    "            if nearest_vertex == np.nan:\n",
    "                i = num_states\n",
    "            elif nearest_vertex != np.nan:\n",
    "                dist = df_curr_distMatrix.iloc[curr, nearest_vertex]\n",
    "                df_curr_distMatrix.iloc[:, nearest_vertex] = np.inf\n",
    "                distances.iloc[i,0] = dist\n",
    "                terminal_set.iloc[i,0]  = nearest_vertex\n",
    "                new_curr = nearest_vertex\n",
    "        elif i == num_states:\n",
    "            dist = df_curr_distMatrix.iloc[curr,0]\n",
    "            distances.iloc[i,0] = dist\n",
    "            terminal_set.iloc[i,0]  = 0\n",
    "\n",
    "\n",
    "    arr_terminal_route_temp  = terminal_set.loc[:,0].values\n",
    "    x0 = np.array([0])\n",
    "    arr_terminal_route = np.concatenate((x0, arr_terminal_route_temp), axis = 0)\n",
    "    distance = distances.iloc[0:num_states+1,0].sum() \n",
    "\n",
    "    arr_route_set = arr_terminal_route \n",
    "    route_dist = distance\n",
    "    return arr_terminal_route, distance\n"
   ]
  },
  {
   "cell_type": "markdown",
   "metadata": {},
   "source": [
    "#  METAHEURASTIC: SIMULATED ANNEALING\n",
    "<font color='darkorange'>Simulated annealing (SA) is a probabilistic technique for approximating the global optimum of a given function. Specifically, it is a metaheuristic to approximate global optimization in a large search space. It is often used when the search space is discrete (e.g., all tours that visit a given set of cities).\n",
    "</font>"
   ]
  },
  {
   "cell_type": "code",
   "execution_count": null,
   "metadata": {
    "collapsed": true
   },
   "outputs": [],
   "source": []
  },
  {
   "cell_type": "markdown",
   "metadata": {},
   "source": [
    "# ROUTE \n",
    "### Components\n",
    "1. Group by value in a column\n",
    "2. Convert a dataframe column to an array\n",
    "3. Finding corresponding value in a column and assignning the order number"
   ]
  },
  {
   "cell_type": "code",
   "execution_count": null,
   "metadata": {
    "collapsed": true
   },
   "outputs": [],
   "source": [
    "# ## Displays rows of a dataframe where the values in a particular column are as specifies\n",
    "# # INPUT: DataFrame, column name, value grouping by \n",
    "# # OUTPUT: Subet of the dataframe where the column specified has the value by which it's being grouped\n",
    "# def groupby_value(df, col_name, value):\n",
    "#     df_grouped = df[df.col_name == value]\n",
    "#     return df_grouped"
   ]
  },
  {
   "cell_type": "code",
   "execution_count": null,
   "metadata": {
    "collapsed": true
   },
   "outputs": [],
   "source": [
    "##PUT ITEMS IN ARRAY WHICH ARE GROUPED BY SOME VALUE IN A COLUMN\n",
    "#INPUT: a grouped by bin item dataframe\n",
    "        #original bin dataframe\n",
    "        #bin number by which items are grouped \n",
    "#OUTPUT: return an array of delivery locations of that bin\n",
    "        #to fill the route of that bin in the bin_dataframe\n",
    "def dfCol_arr(df_grouped_items):\n",
    "    arr_delivery_loc = df_grouped_items.loc[:,'delivery_loc'].values\n",
    "    return arr_delivery_loc\n"
   ]
  },
  {
   "cell_type": "code",
   "execution_count": null,
   "metadata": {
    "collapsed": true
   },
   "outputs": [],
   "source": [
    "## Using the subset of the grouped values dataframe, find the correspoding location in the array and fill in the order/delivery number on the delivery route\n",
    "# INPUT: Grouped dataframe, original dataframe, array- route, key_col_name, col_update_name, search_col\n",
    "        #df = df_items\n",
    "        #df_group = subset of items in the same bin\n",
    "        #arr_route = route produced by greedy algorithm/ SA metaheurastic including the depot at the start and end.\n",
    "        #key_col = delivery_loc\n",
    "        #search_col = item\n",
    "        #update_col = delivery_number\n",
    "# OUTPUT: Updated original dataframe\n",
    "    #df = df_items with delivery number allocated to each item\n",
    "\n",
    "def assign_order(df, df_group, arr_route, key_col, search_col, update_col): #key_col = delivery_loc,#search_col = items #update_col = delivery_number\n",
    "    arr_len = len(arr_route)\n",
    "    for i in range(1, arr_len-1):#exclude depots\n",
    "        state = arr_route[i]\n",
    "        item_row = df_group.loc[df_group['%s'%key_col] == state].index[0]#row number of location of the state\n",
    "        item = df_group.loc[item_row, '%s'%search_col]\n",
    "        df.loc[item, '%s'%update_col] = i #assign order\n",
    "    return df"
   ]
  },
  {
   "cell_type": "markdown",
   "metadata": {},
   "source": [
    "Once all items ahve been assigned to a bin, group items by bin. Get all the locations in array format. Using the  Greeedy algorithm or the SA metaheaurastic, generate a route and the cost of the route. \n",
    "Set the corresponding states, delivery number in the items dataframe. \n",
    "Set the route cost for the particular bin in the bin dataframe. \n",
    "<font color='red'>SA to be ammended!\n",
    "</font>"
   ]
  },
  {
   "cell_type": "code",
   "execution_count": null,
   "metadata": {
    "collapsed": true
   },
   "outputs": [],
   "source": [
    "#INPUT: df_bins\n",
    "#OUTPUT: df_bins, only that which have been used\n",
    "\n",
    "def bins_used(df_bins, dimension):\n",
    "    if dimension == 1:\n",
    "        bins_used_subset = df_bins[df_bins['size'] > df_bins['available_space']]\n",
    "        bins_used_subset.index = range(0,bins_used_subset.shape[0])\n",
    "    elif dimension == 2:\n",
    "        bins_used_subset = df_bins[(df_bins['x_size'] > df_bins['av_x_space']) or (df_bins['y_size'] > df_bins['av_y_space'])]\n",
    "        bins_used_subset.index = range(0,bins_used_subset.shape[0])\n",
    "    return bins_used_subset"
   ]
  },
  {
   "cell_type": "code",
   "execution_count": null,
   "metadata": {},
   "outputs": [],
   "source": [
    "df_bins_dispatch1 = bins_used(df_bins_dispatch1,1)\n",
    "df_bins_dispatch2 = bins_used(df_bins_dispatch2,1)\n",
    "display(df_bins_dispatch1)\n",
    "display(df_bins_dispatch2)"
   ]
  },
  {
   "cell_type": "code",
   "execution_count": null,
   "metadata": {},
   "outputs": [],
   "source": [
    "df_bins_dispatch1"
   ]
  },
  {
   "cell_type": "code",
   "execution_count": null,
   "metadata": {
    "collapsed": true
   },
   "outputs": [],
   "source": [
    "# INPUT: item (where all items have been assigned bins) and bin dataframe(only contains bins which are used for a particular dispatch round)\n",
    "    #NOte: bins are a subset: only those which are used and which are used in that particular dispatch round\n",
    "# OUTPUT: updated item and bin dataframes, with delivery number and cost of the route\n",
    "\n",
    "def del_order_cost(df_items, df_bins, df_dist_matrix, TS_method):\n",
    "    delivery_dispatch_round = df_bins.loc[0,'delivery_time_dispatch']\n",
    "    #only use a subset of used bins\n",
    "    num_bins = df_bins.shape[0]\n",
    "    for k in range(num_bins):\n",
    "        bin_no = df_bins.loc[k, 'bin']\n",
    "        df_item_subset = df_items[(df_items['bin'] == bin_no)  & (df_items['delivery_dispatch'] == delivery_dispatch_round)] #subset of items in the bin of value bin_no\n",
    "        arr_del_loc = dfCol_arr(df_item_subset)# array of all delivery locations\n",
    "        #ROUTE AND ROUTE DISTANCE\n",
    "        #nearest neighbour\n",
    "        arr_route_set, route_dist = TS_method(arr_del_loc, df_dist_matrix)\n",
    "        #Simulated annealing\n",
    "#         arr_route_set, route_dist = simulated_anealing(adj_mat, num_cities, distances, possible,terminal_set)\n",
    "         #route distance and cost\n",
    "        df_bins.loc[bin_no, 'route_dist'] = route_dist #setting the route \n",
    "        bin_penalty_factor = df_bins.loc[bin_no, 'bin_penalty'] #the penalty associated with the bin\n",
    "        df_bins.loc[bin_no, 'route_cost'] = route_dist*bin_penalty_factor  #route cost = route dist X bin penalty\n",
    "        #delivery number on route\n",
    "        df_items = assign_order(df_items, df_item_subset, arr_route_set, 'delivery_loc', 'item', 'delivery_number')\n",
    "    return df_items, df_bins\n"
   ]
  },
  {
   "cell_type": "code",
   "execution_count": null,
   "metadata": {},
   "outputs": [],
   "source": [
    "display(df_itemsA)\n",
    "display(df_bins_dispatch1)\n",
    "display(df_bins_dispatch2)"
   ]
  },
  {
   "cell_type": "code",
   "execution_count": null,
   "metadata": {
    "collapsed": true
   },
   "outputs": [],
   "source": [
    "df_items = df_itemsA\n",
    "df_bins = df_bins_dispatch1\n",
    "df_dist_matrix = df_distMat\n",
    "TS_method = nearest_neighbour_arr"
   ]
  },
  {
   "cell_type": "markdown",
   "metadata": {},
   "source": [
    "# FULL IMPLEMENTATION\n",
    "INPUT: \n",
    "1. df_items\n",
    "2. df_vehicles\n",
    "3. df_distanceMatrix\n",
    "4. BP_method\n",
    "5. TS_method\n",
    "6. dimension: of the problem (1 or 2)\n",
    "\n",
    "OUTPUT\n",
    "1. df_items : with to which bin item is allocated/ delivery_dispatch_round\n",
    "2. df_bin1 : with all dispatch 1 bins / distance / cost\n",
    "3. df_bin2 : with all dispatch 1 bins / distance / cost"
   ]
  },
  {
   "cell_type": "code",
   "execution_count": null,
   "metadata": {
    "collapsed": true
   },
   "outputs": [],
   "source": [
    "def packing_and_routing(df_items, df_vehicles, df_distanceMatrix, BP_method, TS_method, dimension):\n",
    "    df_items1, df_bin1, df_bin2 = priority_binPacking(df_items, df_vehicles, BP_method)\n",
    "#     display(df_items1)\n",
    "# #     display(df_bin1)\n",
    "#     display(df_bin2)\n",
    "    df_items2, df_bin1A = del_order_cost(df_items1, df_bin1, df_distanceMatrix, TS_method)\n",
    "    df_items3, df_bin2A = del_order_cost(df_items2, df_bin2, df_distanceMatrix,TS_method)\n",
    "    return df_items3, df_bin1A, df_bin2A"
   ]
  },
  {
   "cell_type": "code",
   "execution_count": null,
   "metadata": {
    "collapsed": true
   },
   "outputs": [],
   "source": [
    "df_items3, df_bin1A, df_bin2A = packing_and_routing(df_items, df_vehicles, df_distMat, first_fit, nearest_neighbour_arr, 1)"
   ]
  },
  {
   "cell_type": "code",
   "execution_count": null,
   "metadata": {},
   "outputs": [],
   "source": [
    "df_items3"
   ]
  },
  {
   "cell_type": "code",
   "execution_count": null,
   "metadata": {},
   "outputs": [],
   "source": [
    "df_bin1A"
   ]
  },
  {
   "cell_type": "code",
   "execution_count": null,
   "metadata": {},
   "outputs": [],
   "source": [
    "df_bin2A"
   ]
  },
  {
   "cell_type": "code",
   "execution_count": null,
   "metadata": {
    "collapsed": true
   },
   "outputs": [],
   "source": []
  }
 ],
 "metadata": {
  "kernelspec": {
   "display_name": "Python 3",
   "language": "python",
   "name": "python3"
  },
  "language_info": {
   "codemirror_mode": {
    "name": "ipython",
    "version": 3
   },
   "file_extension": ".py",
   "mimetype": "text/x-python",
   "name": "python",
   "nbconvert_exporter": "python",
   "pygments_lexer": "ipython3",
   "version": "3.6.1"
  }
 },
 "nbformat": 4,
 "nbformat_minor": 2
}
