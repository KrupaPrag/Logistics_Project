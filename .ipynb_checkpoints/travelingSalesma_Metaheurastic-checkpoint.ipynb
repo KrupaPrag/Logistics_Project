{
 "cells": [
  {
   "cell_type": "markdown",
   "metadata": {},
   "source": [
    "# TRAVELING SALESMAN: SIMULATED ANNEALING\n",
    "Simulated annealing (SA) is a probabilistic technique for approximating the global optimum of a given function. Specifically, it is a metaheuristic to approximate global optimization in a large search space. It is often used when the search space is discrete (e.g., all tours that visit a given set of cities)."
   ]
  },
  {
   "cell_type": "code",
   "execution_count": 1,
   "metadata": {},
   "outputs": [
    {
     "data": {
      "text/html": [
       "<style>\n",
       ".output {\n",
       "    flex-direction: row;\n",
       "}\n",
       "</style>"
      ],
      "text/plain": [
       "<IPython.core.display.HTML object>"
      ]
     },
     "execution_count": 1,
     "metadata": {},
     "output_type": "execute_result"
    }
   ],
   "source": [
    "import os\n",
    "import numpy as np\n",
    "import pandas as pd\n",
    "import matplotlib.pyplot as plt\n",
    "import math as math \n",
    "from math import floor\n",
    "from random import randint\n",
    "import csv as csv\n",
    "#to shuffle dataframe\n",
    "from sklearn.utils import shuffle \n",
    "from IPython.display import display, HTML\n",
    "import scipy \n",
    "from scipy.misc import comb # comb(n,k, exact=True)\n",
    "from math import inf\n",
    "from math import exp, expm1\n",
    "import decimal\n",
    "import random\n",
    "# from scipy import special\n",
    "# from scipy.special import comb\n",
    "CSS = \"\"\"\n",
    ".output {\n",
    "    flex-direction: row;\n",
    "}\n",
    "\"\"\"\n",
    "\n",
    "HTML('<style>{}</style>'.format(CSS))"
   ]
  },
  {
   "cell_type": "code",
   "execution_count": 2,
   "metadata": {
    "collapsed": true
   },
   "outputs": [],
   "source": [
    "dist_mat = 'distance_matrix'\n",
    "def read_data(fileName):\n",
    "    df = pd.read_csv(fileName)\n",
    "    return df\n",
    "    \n",
    "def check_packaging(df):\n",
    "    rows, cols = df.shape #size of the data set\n",
    "    return (rows, cols)\n",
    "\n",
    "def data_check(df, n=3):\n",
    "    df_top_n = df.head(n)\n",
    "    return (df_top_n)\n",
    "\n",
    "def check_ns(df):\n",
    "    ns = df.describe()\n",
    "    return ns"
   ]
  },
  {
   "cell_type": "code",
   "execution_count": 3,
   "metadata": {},
   "outputs": [
    {
     "name": "stdout",
     "output_type": "stream",
     "text": [
      "rows(6) x cols(6) \n",
      "\n",
      "      0     1     2     3     4     5\n",
      "0   NaN  36.0  32.0  54.0  20.0  40.0\n",
      "1  36.0   NaN  22.0  58.0  54.0  67.0\n",
      "2  32.0  22.0   NaN  36.0  42.0  71.0\n",
      "\n",
      "              0          1          2          3          4         5\n",
      "count   5.00000   5.000000   5.000000   5.000000   5.000000   5.00000\n",
      "mean   36.40000  47.400000  40.600000  58.000000  42.200000  63.00000\n",
      "std    12.36123  18.132843  18.487834  20.736441  13.236314  21.05944\n",
      "min    20.00000  22.000000  22.000000  36.000000  20.000000  40.00000\n",
      "25%    32.00000  36.000000  32.000000  50.000000  42.000000  45.00000\n",
      "50%    36.00000  54.000000  36.000000  54.000000  45.000000  67.00000\n",
      "75%    40.00000  58.000000  42.000000  58.000000  50.000000  71.00000\n",
      "max    54.00000  67.000000  71.000000  92.000000  54.000000  92.00000\n",
      "\n",
      "Number of cities including depot:  6\n"
     ]
    }
   ],
   "source": [
    "df_distMat = read_data('%s.csv'%dist_mat)\n",
    "print(\"rows(%s) x cols(%s) \"%check_packaging(df_distMat))\n",
    "print()\n",
    "print(\"%s\"%data_check(df_distMat))\n",
    "print()\n",
    "print(check_ns(df_distMat))\n",
    "print()\n",
    "num_cities = df_distMat.shape[0]\n",
    "# df_cityDist.set_index('city')\n",
    "print('Number of cities including depot: ', num_cities)"
   ]
  },
  {
   "cell_type": "code",
   "execution_count": 4,
   "metadata": {},
   "outputs": [
    {
     "data": {
      "text/html": [
       "<div>\n",
       "<style>\n",
       "    .dataframe thead tr:only-child th {\n",
       "        text-align: right;\n",
       "    }\n",
       "\n",
       "    .dataframe thead th {\n",
       "        text-align: left;\n",
       "    }\n",
       "\n",
       "    .dataframe tbody tr th {\n",
       "        vertical-align: top;\n",
       "    }\n",
       "</style>\n",
       "<table border=\"1\" class=\"dataframe\">\n",
       "  <thead>\n",
       "    <tr style=\"text-align: right;\">\n",
       "      <th></th>\n",
       "      <th>0</th>\n",
       "      <th>1</th>\n",
       "      <th>2</th>\n",
       "      <th>3</th>\n",
       "      <th>4</th>\n",
       "      <th>5</th>\n",
       "    </tr>\n",
       "  </thead>\n",
       "  <tbody>\n",
       "    <tr>\n",
       "      <th>0</th>\n",
       "      <td>inf</td>\n",
       "      <td>36.000000</td>\n",
       "      <td>32.000000</td>\n",
       "      <td>54.000000</td>\n",
       "      <td>20.000000</td>\n",
       "      <td>40.000000</td>\n",
       "    </tr>\n",
       "    <tr>\n",
       "      <th>1</th>\n",
       "      <td>36.000000</td>\n",
       "      <td>inf</td>\n",
       "      <td>22.000000</td>\n",
       "      <td>58.000000</td>\n",
       "      <td>54.000000</td>\n",
       "      <td>67.000000</td>\n",
       "    </tr>\n",
       "    <tr>\n",
       "      <th>2</th>\n",
       "      <td>32.000000</td>\n",
       "      <td>22.000000</td>\n",
       "      <td>inf</td>\n",
       "      <td>36.000000</td>\n",
       "      <td>42.000000</td>\n",
       "      <td>71.000000</td>\n",
       "    </tr>\n",
       "    <tr>\n",
       "      <th>3</th>\n",
       "      <td>54.000000</td>\n",
       "      <td>58.000000</td>\n",
       "      <td>36.000000</td>\n",
       "      <td>inf</td>\n",
       "      <td>50.000000</td>\n",
       "      <td>92.000000</td>\n",
       "    </tr>\n",
       "    <tr>\n",
       "      <th>4</th>\n",
       "      <td>20.000000</td>\n",
       "      <td>54.000000</td>\n",
       "      <td>42.000000</td>\n",
       "      <td>50.000000</td>\n",
       "      <td>inf</td>\n",
       "      <td>45.000000</td>\n",
       "    </tr>\n",
       "    <tr>\n",
       "      <th>5</th>\n",
       "      <td>40.000000</td>\n",
       "      <td>67.000000</td>\n",
       "      <td>71.000000</td>\n",
       "      <td>92.000000</td>\n",
       "      <td>45.000000</td>\n",
       "      <td>inf</td>\n",
       "    </tr>\n",
       "  </tbody>\n",
       "</table>\n",
       "</div>"
      ],
      "text/plain": [
       "           0          1          2          3          4          5\n",
       "0        inf  36.000000  32.000000  54.000000  20.000000  40.000000\n",
       "1  36.000000        inf  22.000000  58.000000  54.000000  67.000000\n",
       "2  32.000000  22.000000        inf  36.000000  42.000000  71.000000\n",
       "3  54.000000  58.000000  36.000000        inf  50.000000  92.000000\n",
       "4  20.000000  54.000000  42.000000  50.000000        inf  45.000000\n",
       "5  40.000000  67.000000  71.000000  92.000000  45.000000        inf"
      ]
     },
     "execution_count": 4,
     "metadata": {},
     "output_type": "execute_result"
    }
   ],
   "source": [
    "df_distMat.fillna(inf,inplace = True)\n",
    "df_distMat\n",
    "# df_distMat.iloc[1,0]"
   ]
  },
  {
   "cell_type": "code",
   "execution_count": 5,
   "metadata": {},
   "outputs": [
    {
     "data": {
      "text/plain": [
       "array([6, 5, 1, 8, 0, 4, 3, 7, 9, 2])"
      ]
     },
     "metadata": {},
     "output_type": "display_data"
    },
    {
     "data": {
      "text/plain": [
       "array([5, 2, 9, 6, 7, 4, 3, 1, 0, 8])"
      ]
     },
     "metadata": {},
     "output_type": "display_data"
    },
    {
     "data": {
      "text/plain": [
       "array([6, 5, 1, 7, 0, 4, 3, 7, 9, 2])"
      ]
     },
     "metadata": {},
     "output_type": "display_data"
    },
    {
     "data": {
      "text/plain": [
       "2"
      ]
     },
     "metadata": {},
     "output_type": "display_data"
    }
   ],
   "source": [
    "# # list1 = list(range(0,10))\n",
    "# # arr = np.asarray(list1)\n",
    "# # type(arr[0])\n",
    "# # # arr = np.array([np.random.permutation(range(10))])\n",
    "arr = np.random.permutation(range(10))\n",
    "display(arr)\n",
    "arr1 = np.random.permutation(range(10))\n",
    "display(arr1)\n",
    "arr[3] = arr1[4]\n",
    "display(arr)\n",
    "b = arr\n",
    "display(b[-1])\n",
    "# n = [0]\n",
    "# arr = np.array([arr,arr[0])\n",
    "# a = 10\n",
    "# b = 11\n",
    "# if a!=b:\n",
    "#     print('nope')\n",
    "# else:\n",
    "#     print('yay')\n",
    "# len(arr)\n",
    "\n",
    "# d = decimal.Decimal(random.randrange(100))/100\n",
    "# print(d)\n",
    "# a = d*5\n",
    "# print(a)\n",
    "# print(int(a))\n",
    "# print(d*5)\n",
    "# int(d*5)\n",
    "# d = int(5*(random.randrange(100)/100))\n",
    "# d\n",
    "# a = exp(-(5+3)/2)\n",
    "# a\n",
    "# int(5.999)"
   ]
  },
  {
   "cell_type": "code",
   "execution_count": 26,
   "metadata": {},
   "outputs": [
    {
     "data": {
      "text/plain": [
       "array([2, 1, 8, 3, 4, 0, 5, 7, 9, 6])"
      ]
     },
     "metadata": {},
     "output_type": "display_data"
    },
    {
     "data": {
      "text/plain": [
       "array({2, 3, 4, 5, 6, 7, 8, 9, 10, 11}, dtype=object)"
      ]
     },
     "metadata": {},
     "output_type": "display_data"
    }
   ],
   "source": [
    "arr = np.random.permutation(range(10))\n",
    "myarray = np.zeros(10)\n",
    "myarray = np.array(set(arr + arr[0]))\n",
    "display(arr)\n",
    "display(myarray)\n"
   ]
  },
  {
   "cell_type": "markdown",
   "metadata": {},
   "source": [
    "Note: The code below has merely reporoduced been reproduced in Python, programming language, with slight adaptations from Mr Woolway's SA code."
   ]
  },
  {
   "cell_type": "code",
   "execution_count": 7,
   "metadata": {
    "collapsed": true
   },
   "outputs": [],
   "source": [
    "#Helper function. Simply computes a distance of a proposed path\n",
    " \n",
    "# INPUTS: \n",
    "#          distMatrix   - the distance matrix: pandas dataframe structure\n",
    "#          proposedPath - the sample path to compute : numpy array\n",
    "#\n",
    "# OUTPUTS: \n",
    "#          totaldist    - the corresponding distance of the proposed path"
   ]
  },
  {
   "cell_type": "code",
   "execution_count": 8,
   "metadata": {
    "collapsed": true
   },
   "outputs": [],
   "source": [
    "def distCalculatorReturn(distMatrix, proposedPath):\n",
    "    dist = 0\n",
    "    i = 0\n",
    "    while i!= proposedPath.shape[0]-1:\n",
    "        dist = dist + distMatrix.iloc[proposedPath[i], proposedPath[i+1]]\n",
    "        i = i+1\n",
    "    dist = dist + distMatrix.iloc[0,proposedPath[0]]#add distance from depot to first state\n",
    "    dist = dist + distMatrix.iloc[proposedPath[-1],0]#add distance from last state to depot\n",
    "    totaldist = dist\n",
    "    return totaldist"
   ]
  },
  {
   "cell_type": "code",
   "execution_count": 36,
   "metadata": {
    "collapsed": true
   },
   "outputs": [],
   "source": [
    "#INPUTS: \n",
    "#D    - some given distance matrix (symmetric and 0's on diag)\n",
    "#n    - the number of cities to vist\n",
    "\n",
    "#OUTPUTS:\n",
    "#path - the optimal path according to the simulated annealing\n",
    "#dist - the corresponding distance to the optimal path\n",
    "#distCal - the distance of the path calculated by the distance matrix\n",
    "def simulates_annealing(D, number_states):  \n",
    "    n = number_states-1\n",
    "    T = 10000 #Initial temperature\n",
    "    L = 20*n #Length of the markov chain\n",
    "    e = (1*exp(1))**(-9) #Tolerance\n",
    "    \n",
    "    \n",
    "    x  = np.random.permutation(range(1,number_states)) # creates an array of all the states besides the depot in a random order\n",
    "    fx = distCalculatorReturn(D, x) #calculates the distance of the random path\n",
    "    \n",
    "    while T > e:\n",
    "        for i in range(1,L):\n",
    "            rand1 = decimal.Decimal(random.randrange(100))/100\n",
    "            rand2 = decimal.Decimal(random.randrange(100))/100\n",
    "            num1 = int(rand1*n)\n",
    "            num2 = int(rand2*n)\n",
    "            \n",
    "            #ensuring num1 and num2 aren't equal\n",
    "            while num1==num2:\n",
    "                rand3 = decimal.Decimal(random.randrange(100))/100\n",
    "                num1 = int(rand3*n)\n",
    "                \n",
    "            y = x # copy of the random path and making random changes to compare two paths\n",
    "            swap1 = y[num1]\n",
    "            y[num1] = y[num2]\n",
    "            y[num2] = swap1\n",
    "            fy = distCalculatorReturn(D,y)\n",
    "            \n",
    "            if fy < fx:\n",
    "                x = y\n",
    "                fx = fy\n",
    "            elif decimal.Decimal(random.randrange(100))/100 < exp(1)**(-(fy-fx)/T):\n",
    "                x = y\n",
    "                fx = fy\n",
    "            \n",
    "        T=0.9*T\n",
    "    path = x\n",
    "    dist = fx \n",
    "    dist_calc_path = distCalculatorReturn(D,x)\n",
    "\n",
    "    return path, dist, dist_calc_path"
   ]
  },
  {
   "cell_type": "code",
   "execution_count": 37,
   "metadata": {},
   "outputs": [
    {
     "data": {
      "text/plain": [
       "array([1, 4, 3, 5, 2])"
      ]
     },
     "metadata": {},
     "output_type": "display_data"
    },
    {
     "data": {
      "text/plain": [
       "229.0"
      ]
     },
     "metadata": {},
     "output_type": "display_data"
    },
    {
     "data": {
      "text/plain": [
       "335.0"
      ]
     },
     "metadata": {},
     "output_type": "display_data"
    }
   ],
   "source": [
    "path, dist, distCalc = simulates_annealing(df_distMat, num_cities)\n",
    "display(path)\n",
    "display(dist)\n",
    "display(distCalc)"
   ]
  },
  {
   "cell_type": "code",
   "execution_count": 38,
   "metadata": {},
   "outputs": [
    {
     "data": {
      "text/html": [
       "<div>\n",
       "<style>\n",
       "    .dataframe thead tr:only-child th {\n",
       "        text-align: right;\n",
       "    }\n",
       "\n",
       "    .dataframe thead th {\n",
       "        text-align: left;\n",
       "    }\n",
       "\n",
       "    .dataframe tbody tr th {\n",
       "        vertical-align: top;\n",
       "    }\n",
       "</style>\n",
       "<table border=\"1\" class=\"dataframe\">\n",
       "  <thead>\n",
       "    <tr style=\"text-align: right;\">\n",
       "      <th></th>\n",
       "      <th>0</th>\n",
       "      <th>1</th>\n",
       "      <th>2</th>\n",
       "      <th>3</th>\n",
       "      <th>4</th>\n",
       "      <th>5</th>\n",
       "    </tr>\n",
       "  </thead>\n",
       "  <tbody>\n",
       "    <tr>\n",
       "      <th>0</th>\n",
       "      <td>inf</td>\n",
       "      <td>36.000000</td>\n",
       "      <td>32.000000</td>\n",
       "      <td>54.000000</td>\n",
       "      <td>20.000000</td>\n",
       "      <td>40.000000</td>\n",
       "    </tr>\n",
       "    <tr>\n",
       "      <th>1</th>\n",
       "      <td>36.000000</td>\n",
       "      <td>inf</td>\n",
       "      <td>22.000000</td>\n",
       "      <td>58.000000</td>\n",
       "      <td>54.000000</td>\n",
       "      <td>67.000000</td>\n",
       "    </tr>\n",
       "    <tr>\n",
       "      <th>2</th>\n",
       "      <td>32.000000</td>\n",
       "      <td>22.000000</td>\n",
       "      <td>inf</td>\n",
       "      <td>36.000000</td>\n",
       "      <td>42.000000</td>\n",
       "      <td>71.000000</td>\n",
       "    </tr>\n",
       "    <tr>\n",
       "      <th>3</th>\n",
       "      <td>54.000000</td>\n",
       "      <td>58.000000</td>\n",
       "      <td>36.000000</td>\n",
       "      <td>inf</td>\n",
       "      <td>50.000000</td>\n",
       "      <td>92.000000</td>\n",
       "    </tr>\n",
       "    <tr>\n",
       "      <th>4</th>\n",
       "      <td>20.000000</td>\n",
       "      <td>54.000000</td>\n",
       "      <td>42.000000</td>\n",
       "      <td>50.000000</td>\n",
       "      <td>inf</td>\n",
       "      <td>45.000000</td>\n",
       "    </tr>\n",
       "    <tr>\n",
       "      <th>5</th>\n",
       "      <td>40.000000</td>\n",
       "      <td>67.000000</td>\n",
       "      <td>71.000000</td>\n",
       "      <td>92.000000</td>\n",
       "      <td>45.000000</td>\n",
       "      <td>inf</td>\n",
       "    </tr>\n",
       "  </tbody>\n",
       "</table>\n",
       "</div>"
      ],
      "text/plain": [
       "           0          1          2          3          4          5\n",
       "0        inf  36.000000  32.000000  54.000000  20.000000  40.000000\n",
       "1  36.000000        inf  22.000000  58.000000  54.000000  67.000000\n",
       "2  32.000000  22.000000        inf  36.000000  42.000000  71.000000\n",
       "3  54.000000  58.000000  36.000000        inf  50.000000  92.000000\n",
       "4  20.000000  54.000000  42.000000  50.000000        inf  45.000000\n",
       "5  40.000000  67.000000  71.000000  92.000000  45.000000        inf"
      ]
     },
     "execution_count": 38,
     "metadata": {},
     "output_type": "execute_result"
    }
   ],
   "source": [
    "df_distMat"
   ]
  },
  {
   "cell_type": "code",
   "execution_count": 39,
   "metadata": {},
   "outputs": [
    {
     "data": {
      "text/html": [
       "<div>\n",
       "<style>\n",
       "    .dataframe thead tr:only-child th {\n",
       "        text-align: right;\n",
       "    }\n",
       "\n",
       "    .dataframe thead th {\n",
       "        text-align: left;\n",
       "    }\n",
       "\n",
       "    .dataframe tbody tr th {\n",
       "        vertical-align: top;\n",
       "    }\n",
       "</style>\n",
       "<table border=\"1\" class=\"dataframe\">\n",
       "  <thead>\n",
       "    <tr style=\"text-align: right;\">\n",
       "      <th></th>\n",
       "      <th>0</th>\n",
       "      <th>1</th>\n",
       "      <th>2</th>\n",
       "      <th>3</th>\n",
       "      <th>4</th>\n",
       "      <th>5</th>\n",
       "    </tr>\n",
       "  </thead>\n",
       "  <tbody>\n",
       "    <tr>\n",
       "      <th>0</th>\n",
       "      <td>inf</td>\n",
       "      <td>36.000000</td>\n",
       "      <td>32.000000</td>\n",
       "      <td>54.000000</td>\n",
       "      <td>20.000000</td>\n",
       "      <td>40.000000</td>\n",
       "    </tr>\n",
       "    <tr>\n",
       "      <th>1</th>\n",
       "      <td>36.000000</td>\n",
       "      <td>inf</td>\n",
       "      <td>22.000000</td>\n",
       "      <td>58.000000</td>\n",
       "      <td>54.000000</td>\n",
       "      <td>67.000000</td>\n",
       "    </tr>\n",
       "    <tr>\n",
       "      <th>2</th>\n",
       "      <td>32.000000</td>\n",
       "      <td>22.000000</td>\n",
       "      <td>inf</td>\n",
       "      <td>36.000000</td>\n",
       "      <td>42.000000</td>\n",
       "      <td>71.000000</td>\n",
       "    </tr>\n",
       "    <tr>\n",
       "      <th>3</th>\n",
       "      <td>54.000000</td>\n",
       "      <td>58.000000</td>\n",
       "      <td>36.000000</td>\n",
       "      <td>inf</td>\n",
       "      <td>50.000000</td>\n",
       "      <td>92.000000</td>\n",
       "    </tr>\n",
       "    <tr>\n",
       "      <th>4</th>\n",
       "      <td>20.000000</td>\n",
       "      <td>54.000000</td>\n",
       "      <td>42.000000</td>\n",
       "      <td>50.000000</td>\n",
       "      <td>inf</td>\n",
       "      <td>45.000000</td>\n",
       "    </tr>\n",
       "    <tr>\n",
       "      <th>5</th>\n",
       "      <td>40.000000</td>\n",
       "      <td>67.000000</td>\n",
       "      <td>71.000000</td>\n",
       "      <td>92.000000</td>\n",
       "      <td>45.000000</td>\n",
       "      <td>inf</td>\n",
       "    </tr>\n",
       "  </tbody>\n",
       "</table>\n",
       "</div>"
      ],
      "text/plain": [
       "           0          1          2          3          4          5\n",
       "0        inf  36.000000  32.000000  54.000000  20.000000  40.000000\n",
       "1  36.000000        inf  22.000000  58.000000  54.000000  67.000000\n",
       "2  32.000000  22.000000        inf  36.000000  42.000000  71.000000\n",
       "3  54.000000  58.000000  36.000000        inf  50.000000  92.000000\n",
       "4  20.000000  54.000000  42.000000  50.000000        inf  45.000000\n",
       "5  40.000000  67.000000  71.000000  92.000000  45.000000        inf"
      ]
     },
     "metadata": {},
     "output_type": "display_data"
    },
    {
     "data": {
      "text/plain": [
       "array([1, 3, 5, 2, 4])"
      ]
     },
     "metadata": {},
     "output_type": "display_data"
    }
   ],
   "source": [
    "D = df_distMat\n",
    "display(df_distMat)\n",
    "number_states = df_distMat.shape[0]\n",
    "n = number_states-1\n",
    "T = 10000 #Initial temperature\n",
    "L = 20*n #Length of the markov chain\n",
    "e = (1*exp(1))**(-9) #Tolerance\n",
    "x  = np.random.permutation(range(1,number_states)) # creates an array of all the states besides the depot in a random order\n",
    "display(x)\n",
    "fx = distCalculatorReturn(D, x) #calculates the distance of the random path\n",
    "# print(fx)\n",
    "####CHECK FROM HERE:\n",
    "#The proposed path and the distance calculated do not correlate.\n",
    "#The minimum distance is returned but the correct path is not returned\n",
    "while T > e:\n",
    "    for i in range(1,L):\n",
    "        rand1 = decimal.Decimal(random.randrange(100))/100\n",
    "        rand2 = decimal.Decimal(random.randrange(100))/100\n",
    "        num1 = int(rand1*n)\n",
    "        num2 = int(rand2*n)\n",
    "        while num1==num2:\n",
    "            rand3 = decimal.Decimal(random.randrange(100))/100\n",
    "            num1 = int(rand3*n)\n",
    "        y = x\n",
    "        swap1 = y[num1]\n",
    "        y[num1] = y[num2]\n",
    "        y[num2] = swap1\n",
    "\n",
    "        fy = distCalculatorReturn(D,y)\n",
    "        if fy < fx:\n",
    "            x = y\n",
    "            fx = fy\n",
    "        elif decimal.Decimal(random.randrange(100))/100 < exp(1)**(-(fy-fx)/T):\n",
    "            x = y\n",
    "            fx = fy\n",
    "    T=0.9*T\n",
    "proposed_path = x\n",
    "dist_proposed_path = fx  \n"
   ]
  },
  {
   "cell_type": "code",
   "execution_count": 40,
   "metadata": {},
   "outputs": [
    {
     "data": {
      "text/plain": [
       "array([2, 4, 1, 5, 3])"
      ]
     },
     "execution_count": 40,
     "metadata": {},
     "output_type": "execute_result"
    }
   ],
   "source": [
    "proposed_path"
   ]
  },
  {
   "cell_type": "code",
   "execution_count": 41,
   "metadata": {},
   "outputs": [
    {
     "data": {
      "text/plain": [
       "229.0"
      ]
     },
     "execution_count": 41,
     "metadata": {},
     "output_type": "execute_result"
    }
   ],
   "source": [
    "dist_proposed_path"
   ]
  },
  {
   "cell_type": "code",
   "execution_count": 42,
   "metadata": {},
   "outputs": [
    {
     "name": "stdout",
     "output_type": "stream",
     "text": [
      "341.0\n"
     ]
    }
   ],
   "source": [
    "dist = distCalculatorReturn(df_distMat,proposed_path)\n",
    "print(dist)\n"
   ]
  },
  {
   "cell_type": "code",
   "execution_count": null,
   "metadata": {
    "collapsed": true
   },
   "outputs": [],
   "source": []
  }
 ],
 "metadata": {
  "kernelspec": {
   "display_name": "Python 3",
   "language": "python",
   "name": "python3"
  },
  "language_info": {
   "codemirror_mode": {
    "name": "ipython",
    "version": 3
   },
   "file_extension": ".py",
   "mimetype": "text/x-python",
   "name": "python",
   "nbconvert_exporter": "python",
   "pygments_lexer": "ipython3",
   "version": "3.6.1"
  }
 },
 "nbformat": 4,
 "nbformat_minor": 2
}
