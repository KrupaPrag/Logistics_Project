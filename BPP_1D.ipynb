{
 "cells": [
  {
   "cell_type": "code",
   "execution_count": 1,
   "metadata": {
    "collapsed": true
   },
   "outputs": [],
   "source": [
    "import os\n",
    "import numpy as np\n",
    "import pandas as pd\n",
    "import matplotlib.pyplot as plt\n",
    "import math as math \n",
    "import csv as csv"
   ]
  },
  {
   "cell_type": "markdown",
   "metadata": {
    "collapsed": true
   },
   "source": [
    "## Read-in data and check data"
   ]
  },
  {
   "cell_type": "code",
   "execution_count": 2,
   "metadata": {
    "collapsed": true
   },
   "outputs": [],
   "source": [
    "items = 'items'\n",
    "bins = 'bins'\n",
    "\n",
    "def read_data(fileName):\n",
    "    df = pd.read_csv(fileName)\n",
    "    return df\n",
    "    \n",
    "def check_packaging(df):\n",
    "    rows, cols = df.shape #size of the data set\n",
    "    return (rows, cols)\n",
    "\n",
    "def data_check(df, n=3):\n",
    "    df_top_n = df.head(n)\n",
    "    return (df_top_n)\n",
    "\n",
    "def check_ns(df):\n",
    "    ns = df.describe()\n",
    "    return ns\n"
   ]
  },
  {
   "cell_type": "markdown",
   "metadata": {},
   "source": [
    "### Item details: "
   ]
  },
  {
   "cell_type": "code",
   "execution_count": 3,
   "metadata": {
    "scrolled": false
   },
   "outputs": [
    {
     "name": "stdout",
     "output_type": "stream",
     "text": [
      "rows(3) x cols(4) \n",
      "\n",
      "    items  size  quantity  remainder\n",
      "0   small     2         5          5\n",
      "1  medium     3         3          3\n",
      "2   large     4         4          4\n",
      "\n",
      "       size  quantity  remainder\n",
      "count   3.0       3.0        3.0\n",
      "mean    3.0       4.0        4.0\n",
      "std     1.0       1.0        1.0\n",
      "min     2.0       3.0        3.0\n",
      "25%     2.5       3.5        3.5\n",
      "50%     3.0       4.0        4.0\n",
      "75%     3.5       4.5        4.5\n",
      "max     4.0       5.0        5.0\n"
     ]
    }
   ],
   "source": [
    "df_items = read_data('%s.csv'%items)\n",
    "print(\"rows(%s) x cols(%s) \"%check_packaging(df_items))\n",
    "print()\n",
    "print(\"%s\"%data_check(df_items))\n",
    "print()\n",
    "print(check_ns(df_items))"
   ]
  },
  {
   "cell_type": "markdown",
   "metadata": {},
   "source": [
    "### Vehicle details"
   ]
  },
  {
   "cell_type": "code",
   "execution_count": 4,
   "metadata": {},
   "outputs": [
    {
     "name": "stdout",
     "output_type": "stream",
     "text": [
      "VEHICLE DETAILS:\n",
      "rows(3) x cols(6) \n",
      "\n",
      "  bin  size  quantity  unused  filled_remainder  partial_filled_remainder\n",
      "0   A     2         5       5               NaN                       NaN\n",
      "1   B     3         4       4               NaN                       NaN\n",
      "2   C     4         3       3               NaN                       NaN\n",
      "\n",
      "       size  quantity  unused  filled_remainder  partial_filled_remainder\n",
      "count   3.0       3.0     3.0               0.0                       0.0\n",
      "mean    3.0       4.0     4.0               NaN                       NaN\n",
      "std     1.0       1.0     1.0               NaN                       NaN\n",
      "min     2.0       3.0     3.0               NaN                       NaN\n",
      "25%     2.5       3.5     3.5               NaN                       NaN\n",
      "50%     3.0       4.0     4.0               NaN                       NaN\n",
      "75%     3.5       4.5     4.5               NaN                       NaN\n",
      "max     4.0       5.0     5.0               NaN                       NaN\n"
     ]
    }
   ],
   "source": [
    "df_vehicles = read_data('%s.csv'%bins)\n",
    "print(\"VEHICLE DETAILS:\")\n",
    "print(\"rows(%s) x cols(%s) \"%check_packaging(df_vehicles))\n",
    "print()\n",
    "print(\"%s\"%data_check(df_vehicles))\n",
    "print()\n",
    "print(check_ns(df_vehicles))"
   ]
  },
  {
   "cell_type": "code",
   "execution_count": 5,
   "metadata": {},
   "outputs": [
    {
     "data": {
      "text/html": [
       "<div>\n",
       "<style>\n",
       "    .dataframe thead tr:only-child th {\n",
       "        text-align: right;\n",
       "    }\n",
       "\n",
       "    .dataframe thead th {\n",
       "        text-align: left;\n",
       "    }\n",
       "\n",
       "    .dataframe tbody tr th {\n",
       "        vertical-align: top;\n",
       "    }\n",
       "</style>\n",
       "<table border=\"1\" class=\"dataframe\">\n",
       "  <thead>\n",
       "    <tr style=\"text-align: right;\">\n",
       "      <th></th>\n",
       "      <th>items</th>\n",
       "      <th>size</th>\n",
       "      <th>quantity</th>\n",
       "      <th>remainder</th>\n",
       "    </tr>\n",
       "  </thead>\n",
       "  <tbody>\n",
       "    <tr>\n",
       "      <th>0</th>\n",
       "      <td>small</td>\n",
       "      <td>2</td>\n",
       "      <td>5</td>\n",
       "      <td>5</td>\n",
       "    </tr>\n",
       "    <tr>\n",
       "      <th>1</th>\n",
       "      <td>medium</td>\n",
       "      <td>3</td>\n",
       "      <td>3</td>\n",
       "      <td>3</td>\n",
       "    </tr>\n",
       "    <tr>\n",
       "      <th>2</th>\n",
       "      <td>large</td>\n",
       "      <td>4</td>\n",
       "      <td>4</td>\n",
       "      <td>4</td>\n",
       "    </tr>\n",
       "  </tbody>\n",
       "</table>\n",
       "</div>"
      ],
      "text/plain": [
       "    items  size  quantity  remainder\n",
       "0   small     2         5          5\n",
       "1  medium     3         3          3\n",
       "2   large     4         4          4"
      ]
     },
     "execution_count": 5,
     "metadata": {},
     "output_type": "execute_result"
    }
   ],
   "source": [
    "df_items"
   ]
  },
  {
   "cell_type": "code",
   "execution_count": null,
   "metadata": {
    "collapsed": true
   },
   "outputs": [],
   "source": [
    "df_vehicles.iloc[1,1]"
   ]
  },
  {
   "cell_type": "code",
   "execution_count": null,
   "metadata": {
    "collapsed": true
   },
   "outputs": [],
   "source": []
  },
  {
   "cell_type": "markdown",
   "metadata": {},
   "source": [
    "###### Test, equal size bins item distribution"
   ]
  },
  {
   "cell_type": "code",
   "execution_count": 7,
   "metadata": {
    "collapsed": true
   },
   "outputs": [],
   "source": [
    "#number of small(1) med(2) large(3) items\n",
    "num_small_items = df_items.iloc[-1,0]\n",
    "num_med_items = df_items.iloc[-1,1]\n",
    "num_large_items = df_items.iloc[-1,2]\n",
    "\n",
    "#capacity of vehicle\n",
    "cap_vehicleA = df_vehicles.iloc[1,1]\n",
    "cap_vehicleB = df_vehicles.iloc[1,2]\n",
    "cap_vehicleC = df_vehicles.iloc[1,3]\n",
    "\n",
    "#number of vehicles\n",
    "num_vehicleA = df_vehicles.iloc[-1,1]\n",
    "num_vehicleB = df_vehicles.iloc[-1,2]\n",
    "num_vehicleC = df_vehicles.iloc[-1,3]\n",
    "\n",
    "#total capacity per vehicle size\n",
    "total_cap_vehicleA = cap_vehicleA * num_vehicleA\n",
    "total_cap_vehicleB = cap_vehicleB * num_vehicleB\n",
    "total_cap_vehicleC = cap_vehicleC * num_vehicleC\n",
    "\n",
    "#remainder in vehicles\n",
    "remainderA = 0\n",
    "remainderB = 0\n",
    "remainderC = 0\n",
    "\n",
    "#item size\n",
    "small = 1\n",
    "medium = 2\n",
    "large = 3"
   ]
  },
  {
   "cell_type": "code",
   "execution_count": 8,
   "metadata": {
    "collapsed": true
   },
   "outputs": [],
   "source": [
    "#function: to calculate use of bins and remainder\n",
    "def bin_usage(bin_size, number_of_bins, size_of_item, number_of_items):\n",
    "    #CASE I \n",
    "    if number_of_bins == 0 or number_items==0:\n",
    "        remainder_bins = number_of_bins\n",
    "        remainder_items = number_of_items\n",
    "        remainder_in_filled_bins = 0\n",
    "        remainder_in_partial_filled_bin = 0\n",
    "        print('CASE I: Number of bins or items is zero.')\n",
    "    else:\n",
    "    #CASE II: bin size smaller than item size\n",
    "        if bin_size < item_size: #bin size is too small for the item\n",
    "            print('CASE II: Size of the bin too small for item.')\n",
    "            remainder_bins = number_of_bins\n",
    "            remainder_items = number_of_items\n",
    "            remainder_in_filled_bins = 0\n",
    "            remainder_in_partial_filled_bin = 0\n",
    "        elif bin_size >= item_size:\n",
    "            #CASE III: bin size large enough to fit item\n",
    "            if bin_size % size_of_item ==0:\n",
    "            #CASE IIIa: items fit in bin size exactly, with no remainderin bin space\n",
    "                if bin_size*number_of_bin >= size_of_item*number_of_items: \n",
    "                #CASE IIIaa: if ALL items can fit in the capacity of the bins    \n",
    "                    remainder_bins = (bin_size*number_of_bin - number_of_items*size_of_item) / bin_size\n",
    "                    remainder_items = 0\n",
    "                    remainder_in_filled_bins = 0\n",
    "                    remainder_in_partial_filled_bin = 0\n",
    "                elif bin_size*number_of_bin < size_of_item*number_of_items:\n",
    "                #CASE III ab: if  NOT all items can fit in the capacity of the bins\n",
    "                    items_per_bin = bin_size/item_size\n",
    "                    remainder_bins = 0\n",
    "                    remainder_items = number_of_items - (items_per_bin*number_of_bins)\n",
    "                    remainder_in_partial_filled_bin = 0\n",
    "                    remainder_in_filled_bins = 0\n",
    "            elif bin_size % size_of_item !=0:\n",
    "            #CASE IIIb: items DONT fit into bins exactly, has remainder spacing\n",
    "                items_per_bin = math.modf(bin_size/size_of_item)[1]\n",
    "                remainder_in_filled_bins = (math.modf(bin_size/size_of_item)[0])*bin_size\n",
    "            if number_of_bins*items_per_bin >= number_of_items:\n",
    "            #CASE IIIba: if ALL items fit in the capacity of the bins\n",
    "                remainder_bins = number_of_bins - ceil(number_of_items/items_per_bin)\n",
    "                remainder_in_partial_filled_bin = modf(number_of_items/items_per_bin)[0]*bin_size\n",
    "                remainder_items = 0\n",
    "            elif items_per_bin*number_of_bins < number_of_items:\n",
    "            #CASE III bb: NOT all items fit in the bins\n",
    "                remainder_bins = 0\n",
    "                remainder_items = number_of_items - number_of_bins*items_per_bin\n",
    "                remainder_in_partial_filled_bin = 0\n",
    "                return remainder_items, remainder_bins, remainder_in_filled_bins, remainder_in_partial_filled_bin"
   ]
  },
  {
   "cell_type": "markdown",
   "metadata": {
    "collapsed": true
   },
   "source": [
    "# Greedy Approach"
   ]
  },
  {
   "cell_type": "markdown",
   "metadata": {},
   "source": [
    "#### Greedy Approach 1:\n",
    "Fill bins starting from smallest to largest items.\n",
    "Filling bins from smallest to largest."
   ]
  },
  {
   "cell_type": "code",
   "execution_count": 9,
   "metadata": {},
   "outputs": [
    {
     "ename": "SyntaxError",
     "evalue": "invalid syntax (<ipython-input-9-20f5423b58ed>, line 8)",
     "output_type": "error",
     "traceback": [
      "\u001b[0;36m  File \u001b[0;32m\"<ipython-input-9-20f5423b58ed>\"\u001b[0;36m, line \u001b[0;32m8\u001b[0m\n\u001b[0;31m    for j in range k:\u001b[0m\n\u001b[0m                   ^\u001b[0m\n\u001b[0;31mSyntaxError\u001b[0m\u001b[0;31m:\u001b[0m invalid syntax\n"
     ]
    }
   ],
   "source": [
    "#number of types of items \n",
    "r = df_items.shape[0]\n",
    "#number of types of bins\n",
    "k = df_vehicles.shape[0]\n",
    "i = 0\n",
    "if i <= r: \n",
    "    if df_items.iloc[i,3]!=0:\n",
    "        for j in range k:\n",
    "            bin_size = df_vehicles.iloc[j,1]\n",
    "            number_of_bins = df_vehicles.iloc[j,2]\n",
    "            size_of_item = df_items.iloc[i,1]\n",
    "            number_of_items = df_vehicles.iloc[i,3]\n",
    "            remainder_items, remainder_bins, remainder_in_filled_bins, remainder_in_partial_filled_bin =  bin_usage(bin_size, number_of_bins, size_of_item, number_of_items)\n",
    "            if df_items.iloc[i,3] == 0:\n",
    "                i = i + 1\n",
    "                GOTO\n",
    "                "
   ]
  },
  {
   "cell_type": "markdown",
   "metadata": {},
   "source": [
    "#### Greedy Approach 2:\n",
    "Fill bins starting from largest to smallest items.\n",
    "Filling bins from smallest to largest.\n",
    "#### Greedy Approach 3:\n",
    "Fill bins starting from smallest to largest items.\n",
    "Filling bins from largest to smallest.\n",
    "#### Greedy Approach 4:\n",
    "Fill bins starting from largest to smallest items.\n",
    "Filling bins from largest to smallest."
   ]
  },
  {
   "cell_type": "code",
   "execution_count": 10,
   "metadata": {},
   "outputs": [
    {
     "data": {
      "text/plain": [
       "(0.5999999999999996, 5.0)"
      ]
     },
     "execution_count": 10,
     "metadata": {},
     "output_type": "execute_result"
    }
   ],
   "source": [
    "math.modf(140/25)"
   ]
  },
  {
   "cell_type": "code",
   "execution_count": 11,
   "metadata": {},
   "outputs": [
    {
     "data": {
      "text/plain": [
       "1"
      ]
     },
     "execution_count": 11,
     "metadata": {},
     "output_type": "execute_result"
    }
   ],
   "source": [
    "math.ceil(0.1)"
   ]
  },
  {
   "cell_type": "code",
   "execution_count": null,
   "metadata": {
    "collapsed": true
   },
   "outputs": [],
   "source": []
  },
  {
   "cell_type": "code",
   "execution_count": null,
   "metadata": {
    "collapsed": true
   },
   "outputs": [],
   "source": []
  }
 ],
 "metadata": {
  "kernelspec": {
   "display_name": "Python 3",
   "language": "python",
   "name": "python3"
  },
  "language_info": {
   "codemirror_mode": {
    "name": "ipython",
    "version": 3
   },
   "file_extension": ".py",
   "mimetype": "text/x-python",
   "name": "python",
   "nbconvert_exporter": "python",
   "pygments_lexer": "ipython3",
   "version": "3.6.1"
  }
 },
 "nbformat": 4,
 "nbformat_minor": 2
}
