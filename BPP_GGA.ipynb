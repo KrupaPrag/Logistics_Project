{
 "cells": [
  {
   "cell_type": "markdown",
   "metadata": {},
   "source": [
    "# GENETIC ALGORITHM FOR BIN PACKING"
   ]
  },
  {
   "cell_type": "markdown",
   "metadata": {},
   "source": [
    "## Imports and data injestion"
   ]
  },
  {
   "cell_type": "code",
   "execution_count": 20,
   "metadata": {},
   "outputs": [
    {
     "data": {
      "text/html": [
       "<style>\n",
       ".output {\n",
       "    flex-direction: row;\n",
       "}\n",
       "</style>"
      ],
      "text/plain": [
       "<IPython.core.display.HTML object>"
      ]
     },
     "execution_count": 20,
     "metadata": {},
     "output_type": "execute_result"
    }
   ],
   "source": [
    "import os\n",
    "import numpy as np\n",
    "import pandas as pd\n",
    "import matplotlib.pyplot as plt\n",
    "import math as math \n",
    "import csv as csv\n",
    "#to shuffle dataframe\n",
    "from sklearn.utils import shuffle \n",
    "from IPython.display import display, HTML\n",
    "CSS = \"\"\"\n",
    ".output {\n",
    "    flex-direction: row;\n",
    "}\n",
    "\"\"\"\n",
    "\n",
    "HTML('<style>{}</style>'.format(CSS))"
   ]
  },
  {
   "cell_type": "code",
   "execution_count": 21,
   "metadata": {
    "collapsed": true
   },
   "outputs": [],
   "source": [
    "items = 'items'\n",
    "bins = 'bins'\n",
    "items_2D = 'items2D'\n",
    "bins2D = 'bins2D'\n",
    "\n",
    "def read_data(fileName):\n",
    "    df = pd.read_csv(fileName)\n",
    "    return df\n",
    "    \n",
    "def check_packaging(df):\n",
    "    rows, cols = df.shape #size of the data set\n",
    "    return (rows, cols)\n",
    "\n",
    "def data_check(df, n=3):\n",
    "    df_top_n = df.head(n)\n",
    "    return (df_top_n)\n",
    "\n",
    "def check_ns(df):\n",
    "    ns = df.describe()\n",
    "    return ns"
   ]
  },
  {
   "cell_type": "markdown",
   "metadata": {},
   "source": [
    "### Item data"
   ]
  },
  {
   "cell_type": "code",
   "execution_count": 19,
   "metadata": {},
   "outputs": [
    {
     "data": {
      "text/html": [
       "<div>\n",
       "<style>\n",
       "    .dataframe thead tr:only-child th {\n",
       "        text-align: right;\n",
       "    }\n",
       "\n",
       "    .dataframe thead th {\n",
       "        text-align: left;\n",
       "    }\n",
       "\n",
       "    .dataframe tbody tr th {\n",
       "        vertical-align: top;\n",
       "    }\n",
       "</style>\n",
       "<table border=\"1\" class=\"dataframe\">\n",
       "  <thead>\n",
       "    <tr style=\"text-align: right;\">\n",
       "      <th></th>\n",
       "      <th>item</th>\n",
       "      <th>size</th>\n",
       "      <th>bin</th>\n",
       "    </tr>\n",
       "  </thead>\n",
       "  <tbody>\n",
       "    <tr>\n",
       "      <th>0</th>\n",
       "      <td>0</td>\n",
       "      <td>4</td>\n",
       "      <td>NaN</td>\n",
       "    </tr>\n",
       "    <tr>\n",
       "      <th>1</th>\n",
       "      <td>1</td>\n",
       "      <td>3</td>\n",
       "      <td>NaN</td>\n",
       "    </tr>\n",
       "    <tr>\n",
       "      <th>2</th>\n",
       "      <td>2</td>\n",
       "      <td>6</td>\n",
       "      <td>NaN</td>\n",
       "    </tr>\n",
       "    <tr>\n",
       "      <th>3</th>\n",
       "      <td>3</td>\n",
       "      <td>3</td>\n",
       "      <td>NaN</td>\n",
       "    </tr>\n",
       "    <tr>\n",
       "      <th>4</th>\n",
       "      <td>4</td>\n",
       "      <td>2</td>\n",
       "      <td>NaN</td>\n",
       "    </tr>\n",
       "    <tr>\n",
       "      <th>5</th>\n",
       "      <td>5</td>\n",
       "      <td>1</td>\n",
       "      <td>NaN</td>\n",
       "    </tr>\n",
       "    <tr>\n",
       "      <th>6</th>\n",
       "      <td>6</td>\n",
       "      <td>2</td>\n",
       "      <td>NaN</td>\n",
       "    </tr>\n",
       "  </tbody>\n",
       "</table>\n",
       "</div>"
      ],
      "text/plain": [
       "   item  size  bin\n",
       "0     0     4  NaN\n",
       "1     1     3  NaN\n",
       "2     2     6  NaN\n",
       "3     3     3  NaN\n",
       "4     4     2  NaN\n",
       "5     5     1  NaN\n",
       "6     6     2  NaN"
      ]
     },
     "metadata": {},
     "output_type": "display_data"
    },
    {
     "data": {
      "text/html": [
       "<div>\n",
       "<style>\n",
       "    .dataframe thead tr:only-child th {\n",
       "        text-align: right;\n",
       "    }\n",
       "\n",
       "    .dataframe thead th {\n",
       "        text-align: left;\n",
       "    }\n",
       "\n",
       "    .dataframe tbody tr th {\n",
       "        vertical-align: top;\n",
       "    }\n",
       "</style>\n",
       "<table border=\"1\" class=\"dataframe\">\n",
       "  <thead>\n",
       "    <tr style=\"text-align: right;\">\n",
       "      <th></th>\n",
       "      <th>item</th>\n",
       "      <th>x_size</th>\n",
       "      <th>y_size</th>\n",
       "      <th>bin</th>\n",
       "    </tr>\n",
       "  </thead>\n",
       "  <tbody>\n",
       "    <tr>\n",
       "      <th>0</th>\n",
       "      <td>0</td>\n",
       "      <td>4</td>\n",
       "      <td>2</td>\n",
       "      <td>NaN</td>\n",
       "    </tr>\n",
       "    <tr>\n",
       "      <th>1</th>\n",
       "      <td>1</td>\n",
       "      <td>3</td>\n",
       "      <td>1</td>\n",
       "      <td>NaN</td>\n",
       "    </tr>\n",
       "    <tr>\n",
       "      <th>2</th>\n",
       "      <td>2</td>\n",
       "      <td>6</td>\n",
       "      <td>8</td>\n",
       "      <td>NaN</td>\n",
       "    </tr>\n",
       "    <tr>\n",
       "      <th>3</th>\n",
       "      <td>3</td>\n",
       "      <td>3</td>\n",
       "      <td>2</td>\n",
       "      <td>NaN</td>\n",
       "    </tr>\n",
       "    <tr>\n",
       "      <th>4</th>\n",
       "      <td>4</td>\n",
       "      <td>2</td>\n",
       "      <td>1</td>\n",
       "      <td>NaN</td>\n",
       "    </tr>\n",
       "    <tr>\n",
       "      <th>5</th>\n",
       "      <td>5</td>\n",
       "      <td>1</td>\n",
       "      <td>1</td>\n",
       "      <td>NaN</td>\n",
       "    </tr>\n",
       "    <tr>\n",
       "      <th>6</th>\n",
       "      <td>6</td>\n",
       "      <td>2</td>\n",
       "      <td>2</td>\n",
       "      <td>NaN</td>\n",
       "    </tr>\n",
       "  </tbody>\n",
       "</table>\n",
       "</div>"
      ],
      "text/plain": [
       "   item  x_size  y_size  bin\n",
       "0     0       4       2  NaN\n",
       "1     1       3       1  NaN\n",
       "2     2       6       8  NaN\n",
       "3     3       3       2  NaN\n",
       "4     4       2       1  NaN\n",
       "5     5       1       1  NaN\n",
       "6     6       2       2  NaN"
      ]
     },
     "metadata": {},
     "output_type": "display_data"
    }
   ],
   "source": [
    "#ONE DIMENSIONAL\n",
    "df_items1 = read_data('%s.csv'%items)\n",
    "df_items1.set_index('item')\n",
    "#TWO DIMENSIONAL\n",
    "df_items2 = read_data('%s.csv'%items_2D)\n",
    "df_items2.set_index('item')\n",
    "display(df_items1)\n",
    "display(df_items2)"
   ]
  },
  {
   "cell_type": "markdown",
   "metadata": {},
   "source": [
    "# Group Genetic Algorithm (GGA) for Bin Packing Problem (BPP)"
   ]
  },
  {
   "cell_type": "markdown",
   "metadata": {},
   "source": [
    "##### From: Paper[GGA_FALKENEUR]\n",
    "Group Genetic Algorithm (GGA), is a modification to the genetic algorithm to suit the structure of grouping problems. We aim to find a good partition of a set, or to group together the elements of the set. \n",
    "4 Steps:\n",
    "1. ENCODING: obtain initial population for each bin, by randomising the order of the items and applying the first ft algorithm. All the solutions are parents.\n",
    "2. CROSSOVER: Has 5 sub-steps: \n",
    "    1. Select the same random crossing site in two parents.\n",
    "    2. Injest the contents of the first parent at the cross section in at the second parent's cross section, creating children.\n",
    "    3. Replicated elements are removed.  \n",
    "    4. Adapt results such that constraints are adhered to. \n",
    "    5. Rank the fitness of the children.\n",
    "3. MUTATION: Shuffle a small group of items among groups.\n",
    "4. INVERSION: do a random bit swop.\n",
    "\n",
    "NOTE: IT IS AN UNEDUATED SEARCH SPACE CREATED"
   ]
  },
  {
   "cell_type": "markdown",
   "metadata": {
    "collapsed": true
   },
   "source": [
    "## STEP 1: ENCODING\n",
    "1. Generating the initial population for th $k$ bins. For $n$ items, generate $n$ parents. \n",
    "2. Apply first-fit algorithm to each of the $n$ lists. \n",
    "3. For each list, we generate a solution for each of the $k$ bins.\n",
    "4. TABLE: $x$ = LIST$_i$ Bins, and $y$ = Items, filled with bin j accordingly. Where $i \\epsilon n$, and $j \\epsilon k$  "
   ]
  },
  {
   "cell_type": "markdown",
   "metadata": {},
   "source": [
    "### First-fit algorithm for 1 and 2 dimensional BPP"
   ]
  },
  {
   "cell_type": "code",
   "execution_count": 3,
   "metadata": {
    "collapsed": true
   },
   "outputs": [],
   "source": [
    "### ONE DIMENSIONAL FIRST_FIT ALGORITHM##\n",
    "def first_fit(df_items, df_vehicles):\n",
    "    number_of_items = df_items.shape[0]\n",
    "    number_of_bins = df_vehicles.shape[0]\n",
    "    for i in range(number_of_items):\n",
    "        j = 0\n",
    "        item_allocated = False\n",
    "        item_size = df_items.iat[i,1]\n",
    "        while j<= number_of_bins and item_allocated == False:\n",
    "            available_bin_space = df_vehicles.iat[j,2]\n",
    "            if available_bin_space >= item_size: #if adequate space in the bin for the item\n",
    "                item_allocated = True\n",
    "                df_vehicles.iat[j,2] = df_vehicles.iat[j,2] - item_size #update avialable space\n",
    "                bin_num = df_vehicles.iat[j,0]\n",
    "                df_items.iat[i,2] = bin_num#set the allocated bin for the item\n",
    "            elif available_bin_space < item_size: #if NOT adequate space in the curr bin for the item\n",
    "                #move to the next bin\n",
    "                j = j+1 \n",
    "                if j>=number_of_bins: #if none of the bins are large enough to house the item\n",
    "                    item_allocated = True\n",
    "                    df_items.iat[i,2] = np.nan\n",
    "    return df_items, df_vehicles\n",
    "\n",
    "### TWO DIMENSIONAL FIRST_FIT ALGORITHM##\n",
    "def first_fit_2D(df_items, df_vehicles):\n",
    "    number_of_items = df_items.shape[0]\n",
    "    number_of_bins = df_vehicles.shape[0]\n",
    "    for i in range(number_of_items):\n",
    "        j = 0\n",
    "        item_allocated = False\n",
    "        item_size_x = df_items.iat[i,1]\n",
    "        item_size_y = df_items.iat[i,2]\n",
    "        while j<= number_of_bins and item_allocated == False:\n",
    "            available_bin_space_x = df_vehicles.iat[j,3]\n",
    "            available_bin_space_y = df_vehicles.iat[j,4]\n",
    "            if available_bin_space_x >= item_size_x and available_bin_space_y >= item_size_y: #if adequate space in the bin for the item\n",
    "                item_allocated = True\n",
    "                df_vehicles.iat[j,3] = df_vehicles.iat[j,3] - item_size_x #update avialable space in x direction\n",
    "                df_vehicles.iat[j,4] = df_vehicles.iat[j,4] - item_size_y #update avialable space in y direction \n",
    "                bin_num = df_vehicles.iat[j,0]\n",
    "                df_items.iat[i,3] = bin_num#set the allocated bin for the item\n",
    "            elif available_bin_space_x >= item_size_y and available_bin_space_y >= item_size_x: #if adequate space in the bin for the item\n",
    "                item_allocated = True\n",
    "                df_vehicles.iat[j,3] = df_vehicles.iat[j,3] - item_size_y #update avialable space in x direction\n",
    "                df_vehicles.iat[j,4] = df_vehicles.iat[j,4] - item_size_x #update avialable space in y direction \n",
    "                bin_num = df_vehicles.iat[j,0]\n",
    "                df_items.iat[i,3] = bin_num#set the allocated bin for the item\n",
    "            elif available_bin_space_x < item_size_x or available_bin_space_y < item_size_y: #if NOT adequate space in the curr bin for the item\n",
    "                #move to the next bin\n",
    "                j = j+1 \n",
    "                if j>=number_of_bins: #if none of the bins are large enough to house the item\n",
    "                    item_allocated = True\n",
    "                    df_items.iat[i,3] = np.nan\n",
    "    return df_items, df_vehicles"
   ]
  },
  {
   "cell_type": "code",
   "execution_count": null,
   "metadata": {
    "collapsed": true
   },
   "outputs": [],
   "source": [
    "def endoding(df_items, df_vehicles, dimesion):\n",
    "    df_items_copy = df_items.copy()\n",
    "    n = df_items.shape[0] #number of items\n",
    "    k = df_vehicles.shape[0]#number of bins\n",
    "    newDF = pd.DataFrame() #initialise a new dataframe\n",
    "    if dimension == 1:\n",
    "        newDF = newDF.append(df_items[:][['item','size']])\n",
    "        #use 1d first fit\n",
    "        for i in range n: \n",
    "            df_items_copy_temp = shuffle(df_items_copy) #shuffle the copy of items\n",
    "            df_items_copy_temp = first_fit(df_items_copy_temp) #assigns items to bins using ff\n",
    "            df_items_copy_temp = df_items_copy_temp.sort_values(by = 'item').reset_index(drop=True) #rearranges the list according to item 0,1,2... and resets the index as well\n",
    "    elif dimesion == 2:\n",
    "        newDF = newDF.append(df_items[:][['item','x_size','y_size']])\n",
    "        #use 2d first fit\n",
    "        for i in range n: \n",
    "            df_items_copy_temp = shuffle(df_items_copy) #shuffle the copy of items\n",
    "            df_items_copy_temp = first_fit_2D(df_items_copy_temp) #assigns items to bins using ff \n"
   ]
  }
 ],
 "metadata": {
  "kernelspec": {
   "display_name": "Python 3",
   "language": "python",
   "name": "python3"
  },
  "language_info": {
   "codemirror_mode": {
    "name": "ipython",
    "version": 3
   },
   "file_extension": ".py",
   "mimetype": "text/x-python",
   "name": "python",
   "nbconvert_exporter": "python",
   "pygments_lexer": "ipython3",
   "version": "3.6.1"
  }
 },
 "nbformat": 4,
 "nbformat_minor": 2
}
