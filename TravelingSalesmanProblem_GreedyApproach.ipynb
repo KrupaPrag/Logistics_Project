{
 "cells": [
  {
   "cell_type": "markdown",
   "metadata": {},
   "source": [
    "# The Traveling Salesman Problem (TSP)\n",
    "#### The TSP depicts a salesman who has to visit $n$ cities, returning to it's start  (home)  city, whilst not visiting any of the nodes more than once. \n",
    "Store data in an adjacency matrix."
   ]
  },
  {
   "cell_type": "code",
   "execution_count": 1,
   "metadata": {},
   "outputs": [
    {
     "data": {
      "text/html": [
       "<style>\n",
       ".output {\n",
       "    flex-direction: row;\n",
       "}\n",
       "</style>"
      ],
      "text/plain": [
       "<IPython.core.display.HTML object>"
      ]
     },
     "execution_count": 1,
     "metadata": {},
     "output_type": "execute_result"
    }
   ],
   "source": [
    "import os\n",
    "import numpy as np\n",
    "import pandas as pd\n",
    "import matplotlib.pyplot as plt\n",
    "import math as math \n",
    "from math import floor\n",
    "from random import randint\n",
    "import csv as csv\n",
    "#to shuffle dataframe\n",
    "from sklearn.utils import shuffle \n",
    "from IPython.display import display, HTML\n",
    "import scipy \n",
    "from scipy.misc import comb # comb(n,k, exact=True)\n",
    "# from scipy import special\n",
    "# from scipy.special import comb\n",
    "CSS = \"\"\"\n",
    ".output {\n",
    "    flex-direction: row;\n",
    "}\n",
    "\"\"\"\n",
    "\n",
    "HTML('<style>{}</style>'.format(CSS))"
   ]
  },
  {
   "cell_type": "code",
   "execution_count": 2,
   "metadata": {
    "collapsed": true
   },
   "outputs": [],
   "source": [
    "city_dist = 'city'\n",
    "def read_data(fileName):\n",
    "    df = pd.read_csv(fileName)\n",
    "    return df\n",
    "    \n",
    "def check_packaging(df):\n",
    "    rows, cols = df.shape #size of the data set\n",
    "    return (rows, cols)\n",
    "\n",
    "def data_check(df, n=3):\n",
    "    df_top_n = df.head(n)\n",
    "    return (df_top_n)\n",
    "\n",
    "def check_ns(df):\n",
    "    ns = df.describe()\n",
    "    return ns\n"
   ]
  },
  {
   "cell_type": "code",
   "execution_count": 3,
   "metadata": {},
   "outputs": [
    {
     "name": "stdout",
     "output_type": "stream",
     "text": [
      "rows(4) x cols(5) \n",
      "\n",
      "   city  0   1   2   3\n",
      "0     0  0  16  45  14\n",
      "1     1  0   0  18  11\n",
      "2     2  0   0   0  18\n",
      "\n",
      "           city    0     1         2          3\n",
      "count  4.000000  4.0   4.0   4.00000   4.000000\n",
      "mean   1.500000  0.0   4.0  15.75000  10.750000\n",
      "std    1.290994  0.0   8.0  21.26617   7.719024\n",
      "min    0.000000  0.0   0.0   0.00000   0.000000\n",
      "25%    0.750000  0.0   0.0   0.00000   8.250000\n",
      "50%    1.500000  0.0   0.0   9.00000  12.500000\n",
      "75%    2.250000  0.0   4.0  24.75000  15.000000\n",
      "max    3.000000  0.0  16.0  45.00000  18.000000\n",
      "\n",
      "Number of cities including depot:  4\n"
     ]
    }
   ],
   "source": [
    "df_cityDist = read_data('%s.csv'%city_dist)\n",
    "print(\"rows(%s) x cols(%s) \"%check_packaging(df_cityDist))\n",
    "print()\n",
    "print(\"%s\"%data_check(df_cityDist))\n",
    "print()\n",
    "print(check_ns(df_cityDist))\n",
    "print()\n",
    "num_cities = df_cityDist.shape[0]\n",
    "df_cityDist.set_index('city')\n",
    "print('Number of cities including depot: ', num_cities)"
   ]
  },
  {
   "cell_type": "markdown",
   "metadata": {},
   "source": [
    "#### Initilaiization of dataframes which are used to account for verticies visited and calculate distance travelled\n",
    "NOTE: the $0^{th}$ vertex is the start/depot vertex"
   ]
  },
  {
   "cell_type": "code",
   "execution_count": 6,
   "metadata": {},
   "outputs": [
    {
     "data": {
      "text/html": [
       "<div>\n",
       "<style>\n",
       "    .dataframe thead tr:only-child th {\n",
       "        text-align: right;\n",
       "    }\n",
       "\n",
       "    .dataframe thead th {\n",
       "        text-align: left;\n",
       "    }\n",
       "\n",
       "    .dataframe tbody tr th {\n",
       "        vertical-align: top;\n",
       "    }\n",
       "</style>\n",
       "<table border=\"1\" class=\"dataframe\">\n",
       "  <thead>\n",
       "    <tr style=\"text-align: right;\">\n",
       "      <th></th>\n",
       "      <th>0</th>\n",
       "    </tr>\n",
       "  </thead>\n",
       "  <tbody>\n",
       "    <tr>\n",
       "      <th>0</th>\n",
       "      <td>0.0</td>\n",
       "    </tr>\n",
       "    <tr>\n",
       "      <th>1</th>\n",
       "      <td>0.0</td>\n",
       "    </tr>\n",
       "    <tr>\n",
       "      <th>2</th>\n",
       "      <td>0.0</td>\n",
       "    </tr>\n",
       "    <tr>\n",
       "      <th>3</th>\n",
       "      <td>0.0</td>\n",
       "    </tr>\n",
       "  </tbody>\n",
       "</table>\n",
       "</div>"
      ],
      "text/plain": [
       "     0\n",
       "0  0.0\n",
       "1  0.0\n",
       "2  0.0\n",
       "3  0.0"
      ]
     },
     "metadata": {},
     "output_type": "display_data"
    },
    {
     "data": {
      "text/html": [
       "<div>\n",
       "<style>\n",
       "    .dataframe thead tr:only-child th {\n",
       "        text-align: right;\n",
       "    }\n",
       "\n",
       "    .dataframe thead th {\n",
       "        text-align: left;\n",
       "    }\n",
       "\n",
       "    .dataframe tbody tr th {\n",
       "        vertical-align: top;\n",
       "    }\n",
       "</style>\n",
       "<table border=\"1\" class=\"dataframe\">\n",
       "  <thead>\n",
       "    <tr style=\"text-align: right;\">\n",
       "      <th></th>\n",
       "      <th>0</th>\n",
       "    </tr>\n",
       "  </thead>\n",
       "  <tbody>\n",
       "    <tr>\n",
       "      <th>0</th>\n",
       "      <td>0.0</td>\n",
       "    </tr>\n",
       "    <tr>\n",
       "      <th>1</th>\n",
       "      <td>0.0</td>\n",
       "    </tr>\n",
       "    <tr>\n",
       "      <th>2</th>\n",
       "      <td>0.0</td>\n",
       "    </tr>\n",
       "    <tr>\n",
       "      <th>3</th>\n",
       "      <td>0.0</td>\n",
       "    </tr>\n",
       "  </tbody>\n",
       "</table>\n",
       "</div>"
      ],
      "text/plain": [
       "     0\n",
       "0  0.0\n",
       "1  0.0\n",
       "2  0.0\n",
       "3  0.0"
      ]
     },
     "metadata": {},
     "output_type": "display_data"
    },
    {
     "data": {
      "text/html": [
       "<div>\n",
       "<style>\n",
       "    .dataframe thead tr:only-child th {\n",
       "        text-align: right;\n",
       "    }\n",
       "\n",
       "    .dataframe thead th {\n",
       "        text-align: left;\n",
       "    }\n",
       "\n",
       "    .dataframe tbody tr th {\n",
       "        vertical-align: top;\n",
       "    }\n",
       "</style>\n",
       "<table border=\"1\" class=\"dataframe\">\n",
       "  <thead>\n",
       "    <tr style=\"text-align: right;\">\n",
       "      <th></th>\n",
       "      <th>0</th>\n",
       "    </tr>\n",
       "  </thead>\n",
       "  <tbody>\n",
       "    <tr>\n",
       "      <th>0</th>\n",
       "      <td>0.0</td>\n",
       "    </tr>\n",
       "    <tr>\n",
       "      <th>1</th>\n",
       "      <td>0.0</td>\n",
       "    </tr>\n",
       "    <tr>\n",
       "      <th>2</th>\n",
       "      <td>0.0</td>\n",
       "    </tr>\n",
       "    <tr>\n",
       "      <th>3</th>\n",
       "      <td>0.0</td>\n",
       "    </tr>\n",
       "  </tbody>\n",
       "</table>\n",
       "</div>"
      ],
      "text/plain": [
       "     0\n",
       "0  0.0\n",
       "1  0.0\n",
       "2  0.0\n",
       "3  0.0"
      ]
     },
     "metadata": {},
     "output_type": "display_data"
    }
   ],
   "source": [
    "distances = pd.DataFrame(np.zeros((num_cities,1)))# The distance from Vertex i to the next vertex\n",
    "possible = pd.DataFrame(np.zeros((num_cities,1)))# Accounts for the vertices that have been visited\n",
    "terminal_set = pd.DataFrame(np.zeros((num_cities,1)))# The set/ordering of vertices that are encountered on the route\n",
    "\n",
    "distances.rename(columns={'0': 'distances'}, inplace=True)\n",
    "possible.rename(columns={'0': 'possible'}, inplace=True)\n",
    "terminal_set.rename(columns={'0': 'terminal_set'}, inplace=True)\n",
    "\n",
    "display(distances)\n",
    "display(possible)\n",
    "display(terminal_set)"
   ]
  },
  {
   "cell_type": "code",
   "execution_count": null,
   "metadata": {
    "collapsed": true
   },
   "outputs": [],
   "source": []
  }
 ],
 "metadata": {
  "kernelspec": {
   "display_name": "Python 3",
   "language": "python",
   "name": "python3"
  },
  "language_info": {
   "codemirror_mode": {
    "name": "ipython",
    "version": 3
   },
   "file_extension": ".py",
   "mimetype": "text/x-python",
   "name": "python",
   "nbconvert_exporter": "python",
   "pygments_lexer": "ipython3",
   "version": "3.6.1"
  }
 },
 "nbformat": 4,
 "nbformat_minor": 2
}
